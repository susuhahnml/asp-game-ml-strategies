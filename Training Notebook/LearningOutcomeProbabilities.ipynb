{
 "cells": [
  {
   "cell_type": "markdown",
   "metadata": {},
   "source": [
    "# How does Dominoes work? - A supervised learning approach to learn game dynamics and rewards from one-hot-encoded game states and actions."
   ]
  },
  {
   "cell_type": "markdown",
   "metadata": {},
   "source": [
    "## I. The Problem\n",
    "### I.I. The Learning Problem\n",
    "To learn the game dynamics, we have the model predict the next state (vector of length 30, one-hot encoded bist of information that describe the game state after an action) based on the previous state (length 30 one-hot-encoded vector) and an action (length 21 one-hot-encoded vector).  \n",
    "### I.II. The Input Data\n",
    "The input data consists of the current state (vector of length 30, one-hot encoded bist of information that describe the game state after an action) and an action (length 21 one-hot-encoded vector). We use it to predict either the next state (length 30 one-hot-encoded vector) or the probability that a given action in this situation leads to success.  \n",
    "Since the data used for training is collected from multiple games using Monte Carlo Tree Search without accounting for history, it needs to be cleaned so that it is not the case that for the same combination of state and action, multiple probabilities can be learned."
   ]
  },
  {
   "cell_type": "code",
   "execution_count": 1,
   "metadata": {},
   "outputs": [
    {
     "name": "stderr",
     "output_type": "stream",
     "text": [
      "Using TensorFlow backend.\n"
     ]
    }
   ],
   "source": [
    "import warnings  \n",
    "import traceback\n",
    "import numpy as np\n",
    "import pandas as pd\n",
    "import seaborn as sns\n",
    "import matplotlib.pyplot as plt\n",
    "\n",
    "\n",
    "with warnings.catch_warnings():  \n",
    "    warnings.filterwarnings(\"ignore\",category=FutureWarning)\n",
    "    import keras.backend as K\n",
    "    from tensorflow.keras.callbacks import EarlyStopping\n",
    "    import tensorflow as tf\n",
    "    from tensorflow.keras.optimizers import SGD\n",
    "    from tensorflow.keras.optimizers import Adam\n",
    "    from tensorflow.keras.layers import Dense, Dropout\n",
    "    from tensorflow.keras.models import Sequential, Model, clone_model\n",
    "    from tensorflow.keras.regularizers import l2\n",
    "\n",
    "from sklearn.model_selection import KFold\n",
    "from sklearn.model_selection import train_test_split\n",
    "from itertools import product\n",
    "\n",
    "rnd_state = 1"
   ]
  },
  {
   "cell_type": "code",
   "execution_count": 2,
   "metadata": {},
   "outputs": [
    {
     "data": {
      "text/plain": [
       "[]"
      ]
     },
     "execution_count": 2,
     "metadata": {},
     "output_type": "execute_result"
    }
   ],
   "source": [
    "#check if GPU is available for calculations\n",
    "tf.config.experimental.list_physical_devices('GPU')"
   ]
  },
  {
   "cell_type": "code",
   "execution_count": 3,
   "metadata": {},
   "outputs": [],
   "source": [
    "\"\"\"\n",
    "reads in training data from file and divides it into input state, next state and probability of winning\n",
    "outputs a dictionary with training and testing data\n",
    "\"\"\"\n",
    "\n",
    "def divide_train_data(training_path, clean = False, test_size = 0.1):\n",
    "    pandas_train = pd.read_csv(training_path,sep=';')\n",
    "    if clean:\n",
    "        pandas_train = clean_data(pandas_train)\n",
    "    pandas_train = pandas_train.sample(frac=1, random_state=rnd_state).reset_index(drop=True)\n",
    "    train, test = train_test_split(pandas_train,test_size = test_size, shuffle=False)\n",
    "    print(\"With a test size of {}, we get {} training and {} testing samples.\".format(test_size, train.shape[0], test.shape[0]))\n",
    "    train_inputs = train.iloc[:,0:51]\n",
    "    train_next_label = train.iloc[:,51:81]\n",
    "    train_pred_label = train.iloc[:,-2:-1]\n",
    "    test_inputs = test.iloc[:,0:51]\n",
    "    test_next_label = test.iloc[:,51:81]\n",
    "    test_pred_label = test.iloc[:,-2:-1]\n",
    "    train_dict = {\"input\": train_inputs.to_numpy(), \"next\":train_next_label.to_numpy(), \"pred\": train_pred_label.to_numpy()}\n",
    "    test_dict = {\"input\": test_inputs.to_numpy(), \"next\": test_next_label.to_numpy(), \"pred\": test_pred_label.to_numpy()}\n",
    "    return train_dict, test_dict\n",
    "\n",
    "\"\"\"\n",
    "removes duplicate instances of the same state-input-state sequences keeping only the most-visited states\n",
    "\"\"\"\n",
    "def clean_data(dataframe):\n",
    "    cleaned_df = dataframe\n",
    "    cleaned_df_str = convert_cols(cleaned_df, str)\n",
    "    cleaned_df_str['combo'] = cleaned_df_str.apply(lambda x: ''.join(x), axis=1)\n",
    "    cleaned_df_str['combo'] = cleaned_df_str['combo'].str[:51]\n",
    "    cleaned_df_str = cleaned_df_str.sort_values('n', ascending=False).drop_duplicates(['combo'])\n",
    "    cleaned_df_str = cleaned_df_str.drop('combo', 1)\n",
    "    cleaned_df = convert_cols(cleaned_df_str, float)\n",
    "    diff = dataframe.shape[0] - cleaned_df.shape[0]\n",
    "    print(\"Removed {} duplicates with different probability scores\".format(diff))\n",
    "    print(\"This leaves {} instances for training and testing\".format(cleaned_df.shape[0]))\n",
    "    return cleaned_df\n",
    "\n",
    "\"\"\"\n",
    "converts columns (optinally specified by indices) in a dataframe into the specified data type\n",
    "\"\"\"\n",
    "def convert_cols(dataframe, datatype, indices=None):\n",
    "    res_df = dataframe\n",
    "    if indices:\n",
    "        for col in list(res_df.columns.values)[indices]:\n",
    "            res_df[col] = res_df[col].astype(datatype)\n",
    "    else:\n",
    "        for col in list(res_df.columns.values):\n",
    "            res_df[col] = res_df[col].astype(datatype)\n",
    "    return res_df"
   ]
  },
  {
   "cell_type": "markdown",
   "metadata": {},
   "source": [
    "## II. The Solution"
   ]
  },
  {
   "cell_type": "code",
   "execution_count": 4,
   "metadata": {},
   "outputs": [],
   "source": [
    "\"\"\"\n",
    "draws accuracy and loss curves for training\n",
    "\"\"\"\n",
    "def show_acc_loss_curves(hist, metric = \"acc\"):\n",
    "    if metric == \"mea\":\n",
    "        draw_dict = {\"loss\": {\"full\": \"loss\"}, \"mea_metric\": {\"full\": \"mea_metric\"}}\n",
    "    elif metric == \"acc\":\n",
    "        draw_dict = {\"loss\": {\"full\": \"loss\"}, \"acc\": {\"full\": \"accuracy\"}}\n",
    "    elif metric == \"both\":\n",
    "        {\"loss\": {\"full\": \"loss\"}, \"mea_metric\": {\"full\": \"mea_metric\"}, \"acc\": {\"full\": \"accuracy\"}}\n",
    "        \n",
    "    fig, axes = plt.subplots(nrows=1, ncols=len(draw_dict.keys()), figsize=(15, 5))\n",
    "\n",
    "    \n",
    "    for i, key in enumerate(draw_dict.keys()):\n",
    "        axes[i].plot(hist.history[key])\n",
    "        axes[i].plot(hist.history['val_'+key])\n",
    "        axes[i].set_title('model '+draw_dict[key][\"full\"])\n",
    "        axes[i].set_ylabel(key)\n",
    "        axes[i].set_xlabel('epoch')\n",
    "        axes[i].legend(['train', 'test'], loc='upper left')\n",
    "    fig.tight_layout()\n",
    "\n",
    "\"\"\"\n",
    "evaluates model for either next state (test=\"next\") or probablity of winning (test=\"pred\") and return evaluation metrics\n",
    "\"\"\"\n",
    "def test_model(model, test_data, test):\n",
    "    return model.evaluate(test_data[\"input\"], test_data[test], verbose=0)"
   ]
  },
  {
   "cell_type": "markdown",
   "metadata": {},
   "source": [
    "### II.I. Supervised Learning of Game Dynamics\n",
    "To learn the game dynamics, we have the model predict the next state based on the previous state and an action.  \n",
    "To do this, we use a simple neural network with a ```51-120-30``` structure."
   ]
  },
  {
   "cell_type": "code",
   "execution_count": 5,
   "metadata": {},
   "outputs": [
    {
     "name": "stdout",
     "output_type": "stream",
     "text": [
      "Model: \"sequential\"\n",
      "_________________________________________________________________\n",
      "Layer (type)                 Output Shape              Param #   \n",
      "=================================================================\n",
      "dense (Dense)                (None, 120)               6240      \n",
      "_________________________________________________________________\n",
      "dense_1 (Dense)              (None, 30)                3630      \n",
      "=================================================================\n",
      "Total params: 9,870\n",
      "Trainable params: 9,870\n",
      "Non-trainable params: 0\n",
      "_________________________________________________________________\n"
     ]
    }
   ],
   "source": [
    "dyn_model = Sequential()\n",
    "dyn_model.add(Dense(120,input_dim=51, activation=\"relu\", activity_regularizer=l2(0.01)))\n",
    "dyn_model.add(Dense(30, activation='sigmoid'))\n",
    "dyn_model.compile(loss='binary_crossentropy',\n",
    "              optimizer='adam', # Root Mean Square Propagation\n",
    "              metrics=['acc']) # Accuracy performance metric\n",
    "dyn_model.summary()"
   ]
  },
  {
   "cell_type": "markdown",
   "metadata": {},
   "source": [
    "#### Data Processing\n",
    "We then read in the entire training data and divide it into a training and testing data set (20% of data being used for testing)."
   ]
  },
  {
   "cell_type": "code",
   "execution_count": 6,
   "metadata": {},
   "outputs": [
    {
     "name": "stdout",
     "output_type": "stream",
     "text": [
      "Removed 5158 duplicates with different probability scores\n",
      "This leaves 6367 instances for training and testing\n",
      "With a test size of 0.1, we get 5730 training and 637 testing samples.\n"
     ]
    }
   ],
   "source": [
    "train_data, test_data = divide_train_data(\"corrected-200games-1000-iter.csv\", clean=True)"
   ]
  },
  {
   "cell_type": "markdown",
   "metadata": {},
   "source": [
    "#### Training\n",
    "We subsequently train the model to predict the next state from the current state and a given action."
   ]
  },
  {
   "cell_type": "code",
   "execution_count": 7,
   "metadata": {
    "scrolled": true
   },
   "outputs": [
    {
     "name": "stdout",
     "output_type": "stream",
     "text": [
      "WARNING:tensorflow:From /home/lks/anaconda3/lib/python3.7/site-packages/tensorflow/python/ops/math_grad.py:1250: add_dispatch_support.<locals>.wrapper (from tensorflow.python.ops.array_ops) is deprecated and will be removed in a future version.\n",
      "Instructions for updating:\n",
      "Use tf.where in 2.0, which has the same broadcast rule as np.where\n",
      "Epoch 00406: early stopping\n"
     ]
    }
   ],
   "source": [
    "es = EarlyStopping(monitor='loss', mode='min', verbose=1, patience=50, min_delta=0.0005)\n",
    "dyn_history = dyn_model.fit(train_data[\"input\"], train_data[\"next\"], epochs=500, batch_size=50, verbose=0, \n",
    "                        validation_split=0.1, callbacks=[es])"
   ]
  },
  {
   "cell_type": "markdown",
   "metadata": {},
   "source": [
    "#### Results  \n",
    "The results show that the network is able to quickly extract the relevant dynamics from the input data, represented by the steep decline of the loss curve after only a few epochs."
   ]
  },
  {
   "cell_type": "code",
   "execution_count": 8,
   "metadata": {},
   "outputs": [
    {
     "data": {
      "image/png": "[encoded data removed]",
      "text/plain": [
       "<Figure size 1080x360 with 2 Axes>"
      ]
     },
     "metadata": {
      "needs_background": "light"
     },
     "output_type": "display_data"
    }
   ],
   "source": [
    "# summarize history for loss and acc\n",
    "show_acc_loss_curves(dyn_history)"
   ]
  },
  {
   "cell_type": "code",
   "execution_count": 9,
   "metadata": {
    "scrolled": true
   },
   "outputs": [
    {
     "name": "stdout",
     "output_type": "stream",
     "text": [
      "loss: 0.0019886951726894924, acc: 1.0\n"
     ]
    }
   ],
   "source": [
    "results = test_model(dyn_model, test_data, test=\"next\")\n",
    "print(\"loss: {}, acc: {}\".format(results[0],results[1]))"
   ]
  },
  {
   "cell_type": "markdown",
   "metadata": {},
   "source": [
    "### II.II. Transfer Learning\n",
    "In order to better learn the probability that a given action in a specific situation leads to winning the game, we use the trained model from the previous task and attach 2 more layers on top of it. This is meant to use the knowledge gained about game dynamics for predicting the probability of winning after a given action.  \n",
    "\n",
    "#### Distribution of labels\n",
    "First however, we take a look at the distribution of outcome probabilities.  \n",
    "As we can see, they are not equally distributed, which makes sense as most actions have a low probability of success. Two other peaks occur for ambigous actions (p~0.5) and actions with a high probability of winning."
   ]
  },
  {
   "cell_type": "code",
   "execution_count": 10,
   "metadata": {},
   "outputs": [
    {
     "data": {
      "image/png": "[encoded data removed]",
      "text/plain": [
       "<Figure size 432x288 with 1 Axes>"
      ]
     },
     "metadata": {
      "needs_background": "light"
     },
     "output_type": "display_data"
    }
   ],
   "source": [
    "plt.hist(train_data[\"pred\"],bins=3)\n",
    "plt.hist(train_data[\"pred\"])\n",
    "plt.show()"
   ]
  },
  {
   "cell_type": "code",
   "execution_count": 11,
   "metadata": {},
   "outputs": [],
   "source": [
    "# define cross entropy\n",
    "def cross_entropy(y_true, y_pred):\n",
    "    return tf.nn.sigmoid_cross_entropy_with_logits(labels=y_true, logits=y_pred)\n",
    "\n",
    "\"\"\"\n",
    "creates deep copy of a model including its weights\n",
    "\"\"\"\n",
    "def copy_model(model, optimiser, set_weights):\n",
    "    model_copy= clone_model(model)\n",
    "    \n",
    "    if optimiser == \"nag\":\n",
    "        opt = SGD(learning_rate=learning_rate, nesterov=True)\n",
    "    elif optimiser == \"adam\":\n",
    "        opt = Adam(learning_rate=learning_rate)\n",
    "        \n",
    "    model_copy.compile(loss=cross_entropy, optimizer=opt, metrics=[\"acc\"])\n",
    "    if set_weights:\n",
    "        model_copy.set_weights(model.get_weights())\n",
    "    return model_copy\n",
    "\n",
    "\"\"\"\n",
    "creates model based on given input parameters\n",
    "\"\"\"\n",
    "def create_model(optimiser, learning_rate, c, transfer_learning, deepen_model, base_model):\n",
    "    # transfer learning condition\n",
    "    model = copy_model(base_model, optimiser, transfer_learning)\n",
    "    model.pop()\n",
    "    if deepen_model:\n",
    "        if transfer_learning:\n",
    "            model.layers[0].trainable = False\n",
    "            start = Dense(120, activation='relu', activity_regularizer=l2(c))(model.layers[-1].output)\n",
    "            end = Dense(250, activation='relu', activity_regularizer=l2(c))(start)\n",
    "            out_r = Dense(1, activation=\"sigmoid\", activity_regularizer=l2(c), name='r_prop')(end)\n",
    "            final_model = Model(model.input,out_r)\n",
    "        else:\n",
    "            final_model = Sequential()\n",
    "            final_model.add(Dense(120,input_dim=51, activation=\"relu\", activity_regularizer=l2(c)))\n",
    "            final_model.add(Dense(250, activation='relu', activity_regularizer=l2(c)))\n",
    "            final_model.add(Dense(1, activation=\"sigmoid\", activity_regularizer=l2(c), name='r_prop'))\n",
    "    else:\n",
    "        out_r = Dense(1, activation=\"sigmoid\", activity_regularizer=l2(c),\n",
    "                      name='r_prop')(model.layers[-1].output)\n",
    "        final_model = Model(model.input,out_r)\n",
    "        \n",
    "    # Compile model\n",
    "    if optimiser == \"nag\":\n",
    "        opt = SGD(learning_rate=learning_rate, nesterov=True)\n",
    "    elif optimiser == \"adam\":\n",
    "        opt = Adam(learning_rate=learning_rate)\n",
    "    final_model.compile(loss=cross_entropy, optimizer=opt, metrics=[\"acc\"])\n",
    "    \n",
    "    return final_model\n",
    "\n",
    "def run_3_fold_gridsearch(combinations, filename, model):\n",
    "    # create containers for resulting data\n",
    "    res_df = pd.DataFrame(columns=['transfer','deepened','optimiser','learning rate','batch size',\n",
    "                                   'loss1', 'acc1','loss2', 'acc2','loss3', 'acc3'])\n",
    "    hist_dict_global = {}\n",
    "\n",
    "\n",
    "    # 3-fold grid search over the combinations defined above\n",
    "    for i, combination in enumerate(combinations):\n",
    "\n",
    "        kf = KFold(n_splits=3, random_state=42, shuffle=False)\n",
    "        metrics_dict = {}\n",
    "\n",
    "        print(\"{}/{}: {} - folds completed: \".format(i+1,len(combinations), combination), end=\"\", flush=True)\n",
    "\n",
    "        for j, (train_index, test_index) in enumerate(kf.split(train_data[\"input\"])):\n",
    "            X_train, X_test = train_data[\"input\"][train_index], train_data[\"input\"][test_index]\n",
    "            y_train, y_test = train_data[\"pred\"][train_index], train_data[\"pred\"][test_index]\n",
    "\n",
    "            # try to create and fit the model\n",
    "            try:\n",
    "                model = create_model(optimiser = combination[0], learning_rate = combination[1], \n",
    "                                     c = combination[3], transfer_learning = combination[5], \n",
    "                                     deepen_model = combination[6], base_model = model)\n",
    "                es = EarlyStopping(monitor='val_loss', mode='min', verbose=0, patience=80, min_delta=0.001)\n",
    "                hist = model.fit(X_train, y_train, epochs=combination[4], batch_size=combination[2],\n",
    "                                 verbose=0, validation_data=(X_test, y_test), \n",
    "                                 use_multiprocessing = True, callbacks=[es])\n",
    "            except Exception as error:\n",
    "                print(\"\\nTraining failed for {} - fold {}\".format(combination, j+1))\n",
    "                traceback.print_exc()\n",
    "\n",
    "            # try to evaluate the model\n",
    "            try:        \n",
    "                loss, acc = test_model(model, test_data, test=\"pred\")\n",
    "                metrics_dict[j+1] = {\"loss\": loss, \"acc\": acc, \"epoch_stopped\": es.stopped_epoch}            \n",
    "                if j < 2:\n",
    "                    print(\"{}-\".format(j+1), end=\"\", flush=True)\n",
    "                else:\n",
    "                    print(\"{}\".format(j+1))\n",
    "\n",
    "            except Exception as error:\n",
    "                metrics_dict[j+1] = {\"loss\": None}\n",
    "                print(\"Metric calculations failed for {} - fold {}\".format(combination, j+1))\n",
    "                traceback.print_exc()\n",
    "\n",
    "        row = {'transfer': combination[5], 'deepened': combination[6], 'optimiser': combination[0], \n",
    "               'learning rate': combination[1], 'batch size': combination[2], 'reg_penalty': combination[3],\n",
    "               'epoch_stopped1': metrics_dict[1][\"epoch_stopped\"], 'loss1': metrics_dict[1][\"loss\"], \n",
    "               'acc1': metrics_dict[1][\"acc\"],\n",
    "               'epoch_stopped2': metrics_dict[2][\"epoch_stopped\"], 'loss2': metrics_dict[2][\"loss\"], \n",
    "               'acc2': metrics_dict[2][\"acc\"],\n",
    "               'epoch_stopped3': metrics_dict[3][\"epoch_stopped\"], 'loss3': metrics_dict[3][\"loss\"], \n",
    "               'acc3': metrics_dict[3][\"acc\"]}\n",
    "        res_df = res_df.append(row , ignore_index=True)\n",
    "        res_df.to_csv(filename, sep=\";\")"
   ]
  },
  {
   "cell_type": "markdown",
   "metadata": {},
   "source": [
    "### II.III. Primary Analysis - Choice of optimiser\n",
    "#### II.III.I Grid Search\n",
    "To test which combination of optimiser, learning rate and batch size was best suited to the purpose of learning outcome probabilities using binary cross entropy, we created a grid search over the following parameters:  \n",
    "- ***optimiser***: Nesterov Momentum (NAG), Adaptive Moment Estimation (ADAM)\n",
    "- ***learning rate***: 0.0001, 0.001, 0.01\n",
    "- ***batch size***: 10, 50, 100, 500  \n",
    "  \n",
    "Additionally, to test the effect of transfer learning and deepening the network we also searched over the options:\n",
    "- ***transfer learning***: fixing the only layer after the first training (or \n",
    "- ***deepened***: adding an additonal two layers (```120-250```) "
   ]
  },
  {
   "cell_type": "code",
   "execution_count": null,
   "metadata": {},
   "outputs": [],
   "source": [
    "# set hyperparameter search space\n",
    "optimiser = [\"nag\",\"adam\"]\n",
    "learning_rate = [0.0001, 0.001, 0.01]\n",
    "batch_size = [10, 500, 100, 500]\n",
    "reg_penalty = [0.01, 0.001, 0.0001]\n",
    "max_epochs = [5000]\n",
    "transfer = [True, False]\n",
    "add_layers = [True, False]\n",
    "\n",
    "# create list of all different parameter combinations\n",
    "param_grid = dict(optimiser = optimiser, learning_rate = learning_rate, batch_size = batch_size, \n",
    "                  reg_penalty = reg_penalty, epochs = max_epochs, transfer = transfer, add_layers = add_layers)\n",
    "combinations = list(product(*param_grid.values()))\n",
    "\n",
    "run_3_fold_gridsearch(combinations, \"nag_adam_comparison.csv\", dyn_model)"
   ]
  },
  {
   "cell_type": "markdown",
   "metadata": {},
   "source": [
    "### Analysis\n",
    "The first grid search consisted of 128 different combinations with 3 results for loss and accuracy."
   ]
  },
  {
   "cell_type": "code",
   "execution_count": 12,
   "metadata": {},
   "outputs": [],
   "source": [
    "col_list = ['optimiser', 'transfer', 'deepened', 'learning rate', 'batch size', 'loss_mean', 'loss_std',\n",
    "            'loss_min', 'acc_mean', 'acc_std', 'epochs_mean', 'epochs_std']"
   ]
  },
  {
   "cell_type": "code",
   "execution_count": 13,
   "metadata": {},
   "outputs": [
    {
     "data": {
      "text/plain": [
       "(128, 14)"
      ]
     },
     "execution_count": 13,
     "metadata": {},
     "output_type": "execute_result"
    }
   ],
   "source": [
    "data_raw = pd.read_csv(\"nag_adam_comparison.csv\", sep=\";\", index_col=0)\n",
    "data_raw.shape"
   ]
  },
  {
   "cell_type": "markdown",
   "metadata": {},
   "source": [
    "#### II.III.II. NaN-Examination\n",
    "Unfortunately, due to unlucky combinations of optimiser, batch size and learning rate some of the results are represented as ```NaN``` values."
   ]
  },
  {
   "cell_type": "code",
   "execution_count": 14,
   "metadata": {},
   "outputs": [
    {
     "name": "stdout",
     "output_type": "stream",
     "text": [
      "Out of 128 results, 104 contain NaNs.\n",
      "The columns including NaNs are ['loss1', 'loss2', 'loss3']\n"
     ]
    },
    {
     "name": "stderr",
     "output_type": "stream",
     "text": [
      "/home/lks/anaconda3/lib/python3.7/site-packages/pandas/core/indexing.py:1418: FutureWarning: \n",
      "Passing list-likes to .loc or [] with any missing label will raise\n",
      "KeyError in the future, you can use .reindex() as an alternative.\n",
      "\n",
      "See the documentation here:\n",
      "https://pandas.pydata.org/pandas-docs/stable/user_guide/indexing.html#deprecate-loc-reindex-listlike\n",
      "  return self._getitem_tuple(key)\n"
     ]
    }
   ],
   "source": [
    "null_columns=data_raw.columns[data_raw.isnull().any()]\n",
    "idx = data_raw.index[data_raw.isnull().any(1)]\n",
    "print(\"Out of {} results, {} contain NaNs.\".format(data_raw.shape[0], data_raw.loc[idx,:].shape[0]))\n",
    "print(\"The columns including NaNs are {}\".format(list(null_columns)))\n",
    "# check for nan values in mae columns\n",
    "data_raw[\"loss_na\"] = data_raw.loc[:,[\"loss1\",\"loss2\", \"losse3\"]].isnull().sum(1)"
   ]
  },
  {
   "cell_type": "markdown",
   "metadata": {},
   "source": [
    "At first, we check if the creation of NaNs had anything to do with teh usage of transfer learning or deeening the model.  \n",
    "But as it turns out, the distribution is the same for all conditions. We can clearly see however, that most NaNs not usable for analysis (2 or more NaNs) are produced by using the ADAM optimiser."
   ]
  },
  {
   "cell_type": "code",
   "execution_count": 32,
   "metadata": {},
   "outputs": [
    {
     "data": {
      "image/png": "[encoded data removed]",
      "text/plain": [
       "<Figure size 718.85x432 with 4 Axes>"
      ]
     },
     "metadata": {},
     "output_type": "display_data"
    }
   ],
   "source": [
    "g = sns.FacetGrid(data_raw, hue =\"optimiser\", col=\"transfer\", row = \"deepened\", sharey=True, aspect=1.5, margin_titles=True)\n",
    "bins = [1,2,3,4] #\n",
    "g.map(sns.distplot,\"loss_na\", kde = False, bins = bins, hist=True)\n",
    "g.add_legend()\n",
    "plt.xticks(bins)\n",
    "plt.show()"
   ]
  },
  {
   "cell_type": "markdown",
   "metadata": {},
   "source": [
    "As a second step, we take a look at how batch size and learning rate influence the creation of NaNs.  \n",
    "We see again, that NAG only produces single NaN occurences while ADAM oftentimes leads to two or more NaN losses within the same combination.\n",
    "The number of NaNs created is similar for over the various batch sizes. Notably ADAM seems to create the least NaNs with a high batch size and a small learning rate."
   ]
  },
  {
   "cell_type": "code",
   "execution_count": 33,
   "metadata": {},
   "outputs": [
    {
     "data": {
      "image/png": "[encoded data removed]",
      "text/plain": [
       "<Figure size 1366.85x648 with 12 Axes>"
      ]
     },
     "metadata": {},
     "output_type": "display_data"
    }
   ],
   "source": [
    "g = sns.FacetGrid(data_raw, col=\"batch size\", row = \"learning rate\", hue =\"optimiser\", sharey=True, aspect=1.5, margin_titles=True)\n",
    "bins = [1,2,3,4] #\n",
    "g.map(sns.distplot,\"loss_na\", kde = False, bins = bins, hist=True)\n",
    "g.add_legend()\n",
    "plt.xticks(bins)\n",
    "plt.show()"
   ]
  },
  {
   "cell_type": "code",
   "execution_count": 20,
   "metadata": {},
   "outputs": [
    {
     "name": "stdout",
     "output_type": "stream",
     "text": [
      "Removing all runs with 2 or more missing losses. That leaves 14 runs for adam and 63 runs for nag.\n"
     ]
    }
   ],
   "source": [
    "# remove rows that don't have a at least 2 mae scores\n",
    "data_rm_na = data_raw[(data_raw.loss_na < 2)]\n",
    "data = data_rm_na.copy()\n",
    "print(\"Removing all runs with 2 or more missing losses. That leaves {} runs for adam and {} runs for nag.\".format(data.loc[data['optimiser'] == \"adam\"].shape[0], data.loc[data['optimiser'] == \"nag\"].shape[0]))"
   ]
  },
  {
   "cell_type": "code",
   "execution_count": 21,
   "metadata": {},
   "outputs": [],
   "source": [
    "# compute aggregation metrics\n",
    "data[\"loss_mean\"] = data[['loss1', 'loss2', 'loss3']].mean(axis=1, skipna = True)\n",
    "data[\"loss_std\"] = data[['loss1', 'loss2', 'loss3']].std(axis=1, skipna = True)\n",
    "data[\"acc_mean\"] = data[['acc1', 'acc2', 'acc3']].mean(axis=1, skipna = True)\n",
    "data[\"acc_std\"] = data[['acc1', 'acc2', 'acc3']].std(axis=1, skipna = True)\n",
    "data[\"epochs_mean\"] = data[['epoch_stopped1', 'epoch_stopped2', 'epoch_stopped3']].mean(axis=1, skipna = True)\n",
    "data[\"epochs_std\"] = data[['epoch_stopped1', 'epoch_stopped2', 'epoch_stopped3']].std(axis=1, skipna = True)\n",
    "# get minimum value\n",
    "data[\"loss_min\"] = data[[\"loss1\",\"loss2\", \"loss3\"]].min(1)"
   ]
  },
  {
   "cell_type": "markdown",
   "metadata": {},
   "source": [
    "#### II.III.II. Calculation and analysis of aggregation metrics (loss mean and std)\n",
    "To get a better overview of the different performance for the different combinations, we want to group the data by last activation, loss function and optimiser and average over all learning rates and batch sizes.  \n",
    "However, to see if this is justified, we first have to take a look a the mean loss for batch sizes and learning rates in order to check if the mean accurately approximates the mae over all conditions."
   ]
  },
  {
   "cell_type": "code",
   "execution_count": 23,
   "metadata": {},
   "outputs": [
    {
     "data": {
      "image/png": "[encoded data removed]",
      "text/plain": [
       "<Figure size 972x432 with 6 Axes>"
      ]
     },
     "metadata": {},
     "output_type": "display_data"
    }
   ],
   "source": [
    "g = sns.FacetGrid(data, col=\"learning rate\", row = \"optimiser\", sharey=True, aspect=1.5, margin_titles=True)\n",
    "g.map(sns.barplot, \"batch size\", \"loss_mean\", order = [10, 50, 100, 500])\n",
    "plt.show()"
   ]
  },
  {
   "cell_type": "markdown",
   "metadata": {},
   "source": [
    "The next step is to remove all instances with 2 or more missing maes as otherwise no meaningful aggreagation metrics can be computed.\n",
    "Afterwards we calculate mean and standard devaiation of the mea estimate and save the minimum value from all 3 folds also,\n",
    "This greatly reduces the available number of observations for ADAM."
   ]
  },
  {
   "cell_type": "markdown",
   "metadata": {},
   "source": [
    "When looking at the Top20 results sorted by the mean loss over all folds, we can see that, even though we only have few observations for the ADAM optimiser it achieves the lowest losses. It generally seems to work best with big batch sizes and small learning rates while the results for NAG are more varied but achieve the best results with a little more aggressive learning rates.  \n",
    "The standard deviations are small across the board as well.\n",
    "The generall size of the log loss around 0.6 is not very satisfying at all though.  \n",
    "Also the difference between the two optimisers is rather small with a difference of 0.0239 between the best perfoming combinations for both both optimisers."
   ]
  },
  {
   "cell_type": "code",
   "execution_count": 24,
   "metadata": {
    "scrolled": true
   },
   "outputs": [
    {
     "data": {
      "text/html": [
       "<div>\n",
       "<style scoped>\n",
       "    .dataframe tbody tr th:only-of-type {\n",
       "        vertical-align: middle;\n",
       "    }\n",
       "\n",
       "    .dataframe tbody tr th {\n",
       "        vertical-align: top;\n",
       "    }\n",
       "\n",
       "    .dataframe thead th {\n",
       "        text-align: right;\n",
       "    }\n",
       "</style>\n",
       "<table border=\"1\" class=\"dataframe\">\n",
       "  <thead>\n",
       "    <tr style=\"text-align: right;\">\n",
       "      <th></th>\n",
       "      <th>optimiser</th>\n",
       "      <th>transfer</th>\n",
       "      <th>deepened</th>\n",
       "      <th>learning rate</th>\n",
       "      <th>batch size</th>\n",
       "      <th>loss_mean</th>\n",
       "      <th>loss_std</th>\n",
       "      <th>loss_min</th>\n",
       "      <th>acc_mean</th>\n",
       "      <th>acc_std</th>\n",
       "      <th>epochs_mean</th>\n",
       "      <th>epochs_std</th>\n",
       "    </tr>\n",
       "  </thead>\n",
       "  <tbody>\n",
       "    <tr>\n",
       "      <td>15</td>\n",
       "      <td>adam</td>\n",
       "      <td>False</td>\n",
       "      <td>False</td>\n",
       "      <td>0.0001</td>\n",
       "      <td>500</td>\n",
       "      <td>0.592863</td>\n",
       "      <td>0.006222</td>\n",
       "      <td>0.585704</td>\n",
       "      <td>0.150706</td>\n",
       "      <td>0.001570</td>\n",
       "      <td>885.666667</td>\n",
       "      <td>179.187983</td>\n",
       "    </tr>\n",
       "    <tr>\n",
       "      <td>47</td>\n",
       "      <td>adam</td>\n",
       "      <td>False</td>\n",
       "      <td>False</td>\n",
       "      <td>0.0010</td>\n",
       "      <td>500</td>\n",
       "      <td>0.593203</td>\n",
       "      <td>0.006611</td>\n",
       "      <td>0.585696</td>\n",
       "      <td>0.148090</td>\n",
       "      <td>0.004796</td>\n",
       "      <td>190.000000</td>\n",
       "      <td>28.513155</td>\n",
       "    </tr>\n",
       "    <tr>\n",
       "      <td>29</td>\n",
       "      <td>adam</td>\n",
       "      <td>True</td>\n",
       "      <td>False</td>\n",
       "      <td>0.0010</td>\n",
       "      <td>500</td>\n",
       "      <td>0.594753</td>\n",
       "      <td>0.003298</td>\n",
       "      <td>0.591379</td>\n",
       "      <td>0.145474</td>\n",
       "      <td>0.003951</td>\n",
       "      <td>519.666667</td>\n",
       "      <td>81.002058</td>\n",
       "    </tr>\n",
       "    <tr>\n",
       "      <td>45</td>\n",
       "      <td>adam</td>\n",
       "      <td>True</td>\n",
       "      <td>False</td>\n",
       "      <td>0.0010</td>\n",
       "      <td>500</td>\n",
       "      <td>0.596319</td>\n",
       "      <td>0.004903</td>\n",
       "      <td>0.592721</td>\n",
       "      <td>0.145997</td>\n",
       "      <td>0.001570</td>\n",
       "      <td>582.000000</td>\n",
       "      <td>104.014422</td>\n",
       "    </tr>\n",
       "    <tr>\n",
       "      <td>31</td>\n",
       "      <td>adam</td>\n",
       "      <td>False</td>\n",
       "      <td>False</td>\n",
       "      <td>0.0010</td>\n",
       "      <td>500</td>\n",
       "      <td>0.598233</td>\n",
       "      <td>0.006597</td>\n",
       "      <td>0.590643</td>\n",
       "      <td>0.148613</td>\n",
       "      <td>0.002398</td>\n",
       "      <td>190.000000</td>\n",
       "      <td>51.507281</td>\n",
       "    </tr>\n",
       "    <tr>\n",
       "      <td>14</td>\n",
       "      <td>adam</td>\n",
       "      <td>False</td>\n",
       "      <td>True</td>\n",
       "      <td>0.0001</td>\n",
       "      <td>500</td>\n",
       "      <td>0.600342</td>\n",
       "      <td>0.005557</td>\n",
       "      <td>0.594035</td>\n",
       "      <td>0.148090</td>\n",
       "      <td>0.003268</td>\n",
       "      <td>232.000000</td>\n",
       "      <td>36.428011</td>\n",
       "    </tr>\n",
       "    <tr>\n",
       "      <td>13</td>\n",
       "      <td>adam</td>\n",
       "      <td>True</td>\n",
       "      <td>False</td>\n",
       "      <td>0.0001</td>\n",
       "      <td>500</td>\n",
       "      <td>0.607310</td>\n",
       "      <td>0.001851</td>\n",
       "      <td>0.605993</td>\n",
       "      <td>0.147043</td>\n",
       "      <td>0.003268</td>\n",
       "      <td>2196.000000</td>\n",
       "      <td>323.853362</td>\n",
       "    </tr>\n",
       "    <tr>\n",
       "      <td>10</td>\n",
       "      <td>adam</td>\n",
       "      <td>False</td>\n",
       "      <td>True</td>\n",
       "      <td>0.0001</td>\n",
       "      <td>100</td>\n",
       "      <td>0.607452</td>\n",
       "      <td>0.009745</td>\n",
       "      <td>0.599347</td>\n",
       "      <td>0.145474</td>\n",
       "      <td>0.004532</td>\n",
       "      <td>153.333333</td>\n",
       "      <td>24.704925</td>\n",
       "    </tr>\n",
       "    <tr>\n",
       "      <td>12</td>\n",
       "      <td>adam</td>\n",
       "      <td>True</td>\n",
       "      <td>True</td>\n",
       "      <td>0.0001</td>\n",
       "      <td>500</td>\n",
       "      <td>0.608760</td>\n",
       "      <td>0.010991</td>\n",
       "      <td>0.596376</td>\n",
       "      <td>0.147567</td>\n",
       "      <td>0.001570</td>\n",
       "      <td>258.666667</td>\n",
       "      <td>33.605555</td>\n",
       "    </tr>\n",
       "    <tr>\n",
       "      <td>8</td>\n",
       "      <td>adam</td>\n",
       "      <td>True</td>\n",
       "      <td>True</td>\n",
       "      <td>0.0001</td>\n",
       "      <td>100</td>\n",
       "      <td>0.612731</td>\n",
       "      <td>0.006482</td>\n",
       "      <td>0.605936</td>\n",
       "      <td>0.145997</td>\n",
       "      <td>0.002719</td>\n",
       "      <td>157.333333</td>\n",
       "      <td>19.655364</td>\n",
       "    </tr>\n",
       "    <tr>\n",
       "      <td>40</td>\n",
       "      <td>nag</td>\n",
       "      <td>True</td>\n",
       "      <td>True</td>\n",
       "      <td>0.0010</td>\n",
       "      <td>100</td>\n",
       "      <td>0.616728</td>\n",
       "      <td>0.004061</td>\n",
       "      <td>0.612376</td>\n",
       "      <td>0.117739</td>\n",
       "      <td>0.002719</td>\n",
       "      <td>1525.666667</td>\n",
       "      <td>166.521270</td>\n",
       "    </tr>\n",
       "    <tr>\n",
       "      <td>60</td>\n",
       "      <td>nag</td>\n",
       "      <td>True</td>\n",
       "      <td>True</td>\n",
       "      <td>0.0100</td>\n",
       "      <td>500</td>\n",
       "      <td>0.618516</td>\n",
       "      <td>0.003929</td>\n",
       "      <td>0.614245</td>\n",
       "      <td>0.116693</td>\n",
       "      <td>0.002398</td>\n",
       "      <td>1012.000000</td>\n",
       "      <td>30.610456</td>\n",
       "    </tr>\n",
       "    <tr>\n",
       "      <td>32</td>\n",
       "      <td>nag</td>\n",
       "      <td>True</td>\n",
       "      <td>True</td>\n",
       "      <td>0.0010</td>\n",
       "      <td>10</td>\n",
       "      <td>0.618637</td>\n",
       "      <td>0.009301</td>\n",
       "      <td>0.613121</td>\n",
       "      <td>0.121926</td>\n",
       "      <td>0.002398</td>\n",
       "      <td>280.333333</td>\n",
       "      <td>20.550750</td>\n",
       "    </tr>\n",
       "    <tr>\n",
       "      <td>36</td>\n",
       "      <td>nag</td>\n",
       "      <td>True</td>\n",
       "      <td>True</td>\n",
       "      <td>0.0010</td>\n",
       "      <td>50</td>\n",
       "      <td>0.619812</td>\n",
       "      <td>0.003610</td>\n",
       "      <td>0.617038</td>\n",
       "      <td>0.118263</td>\n",
       "      <td>0.002398</td>\n",
       "      <td>896.333333</td>\n",
       "      <td>149.633998</td>\n",
       "    </tr>\n",
       "    <tr>\n",
       "      <td>35</td>\n",
       "      <td>nag</td>\n",
       "      <td>False</td>\n",
       "      <td>False</td>\n",
       "      <td>0.0010</td>\n",
       "      <td>10</td>\n",
       "      <td>0.620823</td>\n",
       "      <td>0.003109</td>\n",
       "      <td>0.617620</td>\n",
       "      <td>0.120356</td>\n",
       "      <td>0.000906</td>\n",
       "      <td>1203.000000</td>\n",
       "      <td>212.247497</td>\n",
       "    </tr>\n",
       "    <tr>\n",
       "      <td>55</td>\n",
       "      <td>nag</td>\n",
       "      <td>False</td>\n",
       "      <td>False</td>\n",
       "      <td>0.0100</td>\n",
       "      <td>50</td>\n",
       "      <td>0.622072</td>\n",
       "      <td>0.001214</td>\n",
       "      <td>0.621126</td>\n",
       "      <td>0.117216</td>\n",
       "      <td>0.003951</td>\n",
       "      <td>657.666667</td>\n",
       "      <td>80.002083</td>\n",
       "    </tr>\n",
       "    <tr>\n",
       "      <td>20</td>\n",
       "      <td>nag</td>\n",
       "      <td>True</td>\n",
       "      <td>True</td>\n",
       "      <td>0.0010</td>\n",
       "      <td>50</td>\n",
       "      <td>0.622967</td>\n",
       "      <td>0.016154</td>\n",
       "      <td>0.609167</td>\n",
       "      <td>0.117739</td>\n",
       "      <td>0.004153</td>\n",
       "      <td>857.666667</td>\n",
       "      <td>153.154606</td>\n",
       "    </tr>\n",
       "    <tr>\n",
       "      <td>16</td>\n",
       "      <td>nag</td>\n",
       "      <td>True</td>\n",
       "      <td>True</td>\n",
       "      <td>0.0010</td>\n",
       "      <td>10</td>\n",
       "      <td>0.624673</td>\n",
       "      <td>0.008186</td>\n",
       "      <td>0.619012</td>\n",
       "      <td>0.118263</td>\n",
       "      <td>0.004532</td>\n",
       "      <td>261.000000</td>\n",
       "      <td>24.637370</td>\n",
       "    </tr>\n",
       "    <tr>\n",
       "      <td>19</td>\n",
       "      <td>nag</td>\n",
       "      <td>False</td>\n",
       "      <td>False</td>\n",
       "      <td>0.0010</td>\n",
       "      <td>10</td>\n",
       "      <td>0.625532</td>\n",
       "      <td>0.004699</td>\n",
       "      <td>0.622396</td>\n",
       "      <td>0.119309</td>\n",
       "      <td>0.001570</td>\n",
       "      <td>1166.000000</td>\n",
       "      <td>317.723150</td>\n",
       "    </tr>\n",
       "    <tr>\n",
       "      <td>24</td>\n",
       "      <td>nag</td>\n",
       "      <td>True</td>\n",
       "      <td>True</td>\n",
       "      <td>0.0010</td>\n",
       "      <td>100</td>\n",
       "      <td>0.625889</td>\n",
       "      <td>0.006631</td>\n",
       "      <td>0.621100</td>\n",
       "      <td>0.116170</td>\n",
       "      <td>0.006843</td>\n",
       "      <td>1505.000000</td>\n",
       "      <td>195.553062</td>\n",
       "    </tr>\n",
       "  </tbody>\n",
       "</table>\n",
       "</div>"
      ],
      "text/plain": [
       "   optimiser  transfer  deepened  learning rate  batch size  loss_mean  \\\n",
       "15      adam     False     False         0.0001         500   0.592863   \n",
       "47      adam     False     False         0.0010         500   0.593203   \n",
       "29      adam      True     False         0.0010         500   0.594753   \n",
       "45      adam      True     False         0.0010         500   0.596319   \n",
       "31      adam     False     False         0.0010         500   0.598233   \n",
       "14      adam     False      True         0.0001         500   0.600342   \n",
       "13      adam      True     False         0.0001         500   0.607310   \n",
       "10      adam     False      True         0.0001         100   0.607452   \n",
       "12      adam      True      True         0.0001         500   0.608760   \n",
       "8       adam      True      True         0.0001         100   0.612731   \n",
       "40       nag      True      True         0.0010         100   0.616728   \n",
       "60       nag      True      True         0.0100         500   0.618516   \n",
       "32       nag      True      True         0.0010          10   0.618637   \n",
       "36       nag      True      True         0.0010          50   0.619812   \n",
       "35       nag     False     False         0.0010          10   0.620823   \n",
       "55       nag     False     False         0.0100          50   0.622072   \n",
       "20       nag      True      True         0.0010          50   0.622967   \n",
       "16       nag      True      True         0.0010          10   0.624673   \n",
       "19       nag     False     False         0.0010          10   0.625532   \n",
       "24       nag      True      True         0.0010         100   0.625889   \n",
       "\n",
       "    loss_std  loss_min  acc_mean   acc_std  epochs_mean  epochs_std  \n",
       "15  0.006222  0.585704  0.150706  0.001570   885.666667  179.187983  \n",
       "47  0.006611  0.585696  0.148090  0.004796   190.000000   28.513155  \n",
       "29  0.003298  0.591379  0.145474  0.003951   519.666667   81.002058  \n",
       "45  0.004903  0.592721  0.145997  0.001570   582.000000  104.014422  \n",
       "31  0.006597  0.590643  0.148613  0.002398   190.000000   51.507281  \n",
       "14  0.005557  0.594035  0.148090  0.003268   232.000000   36.428011  \n",
       "13  0.001851  0.605993  0.147043  0.003268  2196.000000  323.853362  \n",
       "10  0.009745  0.599347  0.145474  0.004532   153.333333   24.704925  \n",
       "12  0.010991  0.596376  0.147567  0.001570   258.666667   33.605555  \n",
       "8   0.006482  0.605936  0.145997  0.002719   157.333333   19.655364  \n",
       "40  0.004061  0.612376  0.117739  0.002719  1525.666667  166.521270  \n",
       "60  0.003929  0.614245  0.116693  0.002398  1012.000000   30.610456  \n",
       "32  0.009301  0.613121  0.121926  0.002398   280.333333   20.550750  \n",
       "36  0.003610  0.617038  0.118263  0.002398   896.333333  149.633998  \n",
       "35  0.003109  0.617620  0.120356  0.000906  1203.000000  212.247497  \n",
       "55  0.001214  0.621126  0.117216  0.003951   657.666667   80.002083  \n",
       "20  0.016154  0.609167  0.117739  0.004153   857.666667  153.154606  \n",
       "16  0.008186  0.619012  0.118263  0.004532   261.000000   24.637370  \n",
       "19  0.004699  0.622396  0.119309  0.001570  1166.000000  317.723150  \n",
       "24  0.006631  0.621100  0.116170  0.006843  1505.000000  195.553062  "
      ]
     },
     "execution_count": 24,
     "metadata": {},
     "output_type": "execute_result"
    }
   ],
   "source": [
    "data.sort_values(axis=0, by=\"loss_mean\")[col_list].head(20)"
   ]
  },
  {
   "cell_type": "markdown",
   "metadata": {},
   "source": [
    "#### II.III.III Analysing the effect of transfer learning and network deepening\n",
    "To see if transfer learning an model deepening had an effect on model performance, we plot the average loss over the four conditions.  \n",
    "As we can see, the conditions, much as the previous results are almost identical with a slight advantage for adam and models that did not make use of transfer learning. If transfer learning is used however, interestingly, the models without extra layers perform slightly better.  \n",
    "Considering the marignal differences in loss however, it seems fair to say that all conditions perform equally bad."
   ]
  },
  {
   "cell_type": "code",
   "execution_count": 25,
   "metadata": {},
   "outputs": [
    {
     "name": "stderr",
     "output_type": "stream",
     "text": [
      "/home/lks/anaconda3/lib/python3.7/site-packages/seaborn/axisgrid.py:715: UserWarning: Using the barplot function without specifying `order` is likely to produce an incorrect plot.\n",
      "  warnings.warn(warning)\n"
     ]
    },
    {
     "data": {
      "image/png": "[encoded data removed]",
      "text/plain": [
       "<Figure size 718.85x216 with 2 Axes>"
      ]
     },
     "metadata": {},
     "output_type": "display_data"
    }
   ],
   "source": [
    "g = sns.FacetGrid(data, hue=\"optimiser\",col=\"transfer\", sharey=True, aspect=1.5, margin_titles=True)\n",
    "g.map(sns.barplot, \"deepened\", \"loss_mean\").add_legend()\n",
    "plt.show()"
   ]
  },
  {
   "cell_type": "markdown",
   "metadata": {},
   "source": [
    "When looking at the epochs it takes for the model to find a stable configuration, we see that only NAG seems to profit from transfer learning - with no difference in deepening the model. For ADAM the opposite is true - it takes longer to achieve a stable state when transfer learning is enabled and only profits if the model has previously been deepened."
   ]
  },
  {
   "cell_type": "code",
   "execution_count": 26,
   "metadata": {},
   "outputs": [
    {
     "data": {
      "image/png": "[encoded data removed]",
      "text/plain": [
       "<Figure size 718.85x216 with 2 Axes>"
      ]
     },
     "metadata": {},
     "output_type": "display_data"
    }
   ],
   "source": [
    "g = sns.FacetGrid(data, hue= \"optimiser\",col=\"transfer\", sharey=True, aspect=1.5, margin_titles=True)\n",
    "g.map(sns.barplot, \"deepened\", \"epochs_mean\").add_legend()\n",
    "plt.show()"
   ]
  },
  {
   "cell_type": "markdown",
   "metadata": {},
   "source": [
    "Due to the superior speed in all conditions however, we chose too limit our further analyses to the ADAM optimiser."
   ]
  },
  {
   "cell_type": "markdown",
   "metadata": {},
   "source": [
    "### II.IV. Secondary Analysis - Results with Regularisation\n",
    "#### II.IV.I Regularised Model\n",
    "After completing the first analysis and having chosen a optimiser, we identified two more areas of improvement:\n",
    "- numerical stability to avoid creating NaNs\n",
    "- adding regularisarion to the previously unregularised model  \n",
    "\n",
    "So the orignal model was re-run using Dropout in the last layer and L2 regularisation:"
   ]
  },
  {
   "cell_type": "code",
   "execution_count": 27,
   "metadata": {},
   "outputs": [
    {
     "name": "stdout",
     "output_type": "stream",
     "text": [
      "Model: \"sequential_1\"\n",
      "_________________________________________________________________\n",
      "Layer (type)                 Output Shape              Param #   \n",
      "=================================================================\n",
      "dense_2 (Dense)              (None, 120)               6240      \n",
      "_________________________________________________________________\n",
      "dropout (Dropout)            (None, 120)               0         \n",
      "_________________________________________________________________\n",
      "dense_3 (Dense)              (None, 30)                3630      \n",
      "=================================================================\n",
      "Total params: 9,870\n",
      "Trainable params: 9,870\n",
      "Non-trainable params: 0\n",
      "_________________________________________________________________\n"
     ]
    }
   ],
   "source": [
    "reg_model = Sequential()\n",
    "reg_model.add(Dense(120,input_dim=51, activation=\"relu\", activity_regularizer=l2(0.01)))\n",
    "reg_model.add(Dropout(0.25))\n",
    "reg_model.add(Dense(30, activation='sigmoid', activity_regularizer=l2(0.01)))\n",
    "reg_model.compile(loss='binary_crossentropy',\n",
    "              optimizer='adam', # Root Mean Square Propagation\n",
    "              metrics=['acc']) # Accuracy performance metric\n",
    "reg_model.summary()"
   ]
  },
  {
   "cell_type": "code",
   "execution_count": 28,
   "metadata": {
    "scrolled": true
   },
   "outputs": [],
   "source": [
    "es = EarlyStopping(monitor='loss', mode='min', verbose=1, patience=50, min_delta=0.0005)\n",
    "reg_history = reg_model.fit(train_data[\"input\"], train_data[\"next\"], epochs=500, batch_size=50, verbose=0, \n",
    "                        validation_split=0.1, callbacks=[es])"
   ]
  },
  {
   "cell_type": "markdown",
   "metadata": {},
   "source": [
    "#### Results  \n",
    "The results show that the regularised network also overfit to the training data. Indeed, it fits so perfectly that the testing loss ends up (not as high as the unregularised network but still) below the training loss and the testing accuracy surpasses the training accuracy just after a few epochs.  \n",
    "Again, as generalisation is not needed in this task of representing \"general dynamics\", this kind of overfitting can be tolerated."
   ]
  },
  {
   "cell_type": "code",
   "execution_count": 29,
   "metadata": {},
   "outputs": [
    {
     "data": {
      "image/png": "[encoded data removed]",
      "text/plain": [
       "<Figure size 1080x360 with 2 Axes>"
      ]
     },
     "metadata": {},
     "output_type": "display_data"
    }
   ],
   "source": [
    "# summarize history for loss and acc\n",
    "show_acc_loss_curves(reg_history)"
   ]
  },
  {
   "cell_type": "code",
   "execution_count": 30,
   "metadata": {
    "scrolled": true
   },
   "outputs": [
    {
     "name": "stdout",
     "output_type": "stream",
     "text": [
      "loss: 0.0897911029576881, acc: 1.0\n"
     ]
    }
   ],
   "source": [
    "results = test_model(reg_model, test_data, test=\"next\")\n",
    "print(\"loss: {}, acc: {}\".format(results[0],results[1]))"
   ]
  },
  {
   "cell_type": "markdown",
   "metadata": {},
   "source": [
    "#### II.IV.II Grid Search\n",
    "We now test again with an improved loss and final activation (using softmax cross entropy with logits by tensorflow for numerical stability) using only ADAM optimisation for the best combination of learning rate, batch size  and regularisation term.  \n",
    "- ***learning rate***: 0.0001, 0.001, 0.01\n",
    "- ***batch size***: 10, 50, 100, 500  \n",
    "- ***regularisation term c***: 0.01, 0.001, 0.0001\n",
    "  \n",
    "We again evaluate the effect of transfer learning and deepening the network searching over the options:\n",
    "- ***transfer learning***: fixing the only layer after the first training (or \n",
    "- ***deepened***: adding an additonal two layers (```120-250```) "
   ]
  },
  {
   "cell_type": "code",
   "execution_count": null,
   "metadata": {},
   "outputs": [],
   "source": [
    "# set hyperparameter search space\n",
    "optimiser = [\"nag\",\"adam\"]\n",
    "learning_rate = [0.0001, 0.001, 0.01, 0.1]\n",
    "batch_size = [10, 500, 100, 500]\n",
    "reg_penalty = [0.01, 0.001, 0.0001]\n",
    "max_epochs = [5000]\n",
    "transfer = [True, False]\n",
    "add_layers = [True, False]\n",
    "\n",
    "# create list of all different parameter combinations\n",
    "param_grid = dict(optimiser = optimiser, learning_rate = learning_rate, batch_size = batch_size, \n",
    "                  reg_penalty = reg_penalty, epochs = max_epochs, transfer = transfer, add_layers = add_layers)\n",
    "combinations = list(product(*param_grid.values()))\n",
    "\n",
    "run_3_fold_gridsearch(combinations, \"grid_search_reg.csv\", reg_model)"
   ]
  },
  {
   "cell_type": "markdown",
   "metadata": {},
   "source": [
    "### Analysis\n",
    "The first grid search consisted of 192 different combinations with 3 results for loss and accuracy."
   ]
  },
  {
   "cell_type": "code",
   "execution_count": 34,
   "metadata": {},
   "outputs": [],
   "source": [
    "col_list = ['optimiser', 'transfer', 'deepened', 'learning rate', 'batch size', 'reg_penalty', 'loss_mean', 'loss_std',\n",
    "            'loss_min', 'acc_mean', 'acc_std', 'epochs_mean', 'epochs_std']"
   ]
  },
  {
   "cell_type": "code",
   "execution_count": 35,
   "metadata": {},
   "outputs": [
    {
     "data": {
      "text/plain": [
       "(192, 15)"
      ]
     },
     "execution_count": 35,
     "metadata": {},
     "output_type": "execute_result"
    }
   ],
   "source": [
    "data_raw = pd.read_csv(\"grid_search_reg.csv\", sep=\";\", index_col=0)\n",
    "data_raw.shape"
   ]
  },
  {
   "cell_type": "markdown",
   "metadata": {},
   "source": [
    "#### II.IV.III. NaN-Examination\n",
    "Using the improved loss function proved successfull as no NaNs were created during the training."
   ]
  },
  {
   "cell_type": "code",
   "execution_count": 36,
   "metadata": {},
   "outputs": [
    {
     "name": "stdout",
     "output_type": "stream",
     "text": [
      "Out of 192 results, 0 contain NaNs.\n",
      "The columns including NaNs are []\n"
     ]
    }
   ],
   "source": [
    "null_columns=data_raw.columns[data_raw.isnull().any()]\n",
    "idx = data_raw.index[data_raw.isnull().any(1)]\n",
    "print(\"Out of {} results, {} contain NaNs.\".format(data_raw.shape[0], data_raw.loc[idx,:].shape[0]))\n",
    "print(\"The columns including NaNs are {}\".format(list(null_columns)))\n",
    "# check for nan values in mae columns\n",
    "data_raw[\"loss_na\"] = data_raw.loc[:,[\"loss1\",\"loss2\", \"losse3\"]].isnull().sum(1)\n",
    "data = data_raw.copy()"
   ]
  },
  {
   "cell_type": "markdown",
   "metadata": {},
   "source": [
    "#### II.IV.IV. Calculation and analysis of aggregation metrics (loss mean and std)\n",
    "To get a better overview of the different performance for the different combinations, we want to group the data by last activation, loss function and optimiser and average over all learning rates and batch sizes.  \n",
    "However, to see if this is justified, we first have to take a look a the mean loss for batch sizes and learning rates in order to check if the mean accurately approximates the mae over all conditions."
   ]
  },
  {
   "cell_type": "code",
   "execution_count": 37,
   "metadata": {},
   "outputs": [],
   "source": [
    "# compute aggregation metrics\n",
    "data[\"loss_mean\"] = data[['loss1', 'loss2', 'loss3']].mean(axis=1, skipna = True)\n",
    "data[\"loss_std\"] = data[['loss1', 'loss2', 'loss3']].std(axis=1, skipna = True)\n",
    "data[\"acc_mean\"] = data[['acc1', 'acc2', 'acc3']].mean(axis=1, skipna = True)\n",
    "data[\"acc_std\"] = data[['acc1', 'acc2', 'acc3']].std(axis=1, skipna = True)\n",
    "data[\"epochs_mean\"] = data[['epoch_stopped1', 'epoch_stopped2', 'epoch_stopped3']].mean(axis=1, skipna = True)\n",
    "data[\"epochs_std\"] = data[['epoch_stopped1', 'epoch_stopped2', 'epoch_stopped3']].std(axis=1, skipna = True)\n",
    "# get minimum value\n",
    "data[\"loss_min\"] = data[[\"loss1\",\"loss2\", \"loss3\"]].min(1)"
   ]
  },
  {
   "cell_type": "code",
   "execution_count": 38,
   "metadata": {},
   "outputs": [
    {
     "data": {
      "image/png": "[encoded data removed]",
      "text/plain": [
       "<Figure size 1296x216 with 4 Axes>"
      ]
     },
     "metadata": {},
     "output_type": "display_data"
    }
   ],
   "source": [
    "g = sns.FacetGrid(data, col = \"batch size\", sharey=True, aspect=1.5, margin_titles=True)\n",
    "g.map(sns.barplot, \"learning rate\", \"loss_mean\", order = [0.0001, 0.001, 0.01, 0.1])\n",
    "plt.show()"
   ]
  },
  {
   "cell_type": "markdown",
   "metadata": {},
   "source": [
    "When looking at the Top20 results sorted by the mean loss over all folds, we can see that due to regularisation the average loss has increased by about 0.5. Also the penalty term does not seem to greatly affect the loss (with an advantage for small regularisation terms)."
   ]
  },
  {
   "cell_type": "code",
   "execution_count": 39,
   "metadata": {
    "scrolled": true
   },
   "outputs": [
    {
     "data": {
      "text/html": [
       "<div>\n",
       "<style scoped>\n",
       "    .dataframe tbody tr th:only-of-type {\n",
       "        vertical-align: middle;\n",
       "    }\n",
       "\n",
       "    .dataframe tbody tr th {\n",
       "        vertical-align: top;\n",
       "    }\n",
       "\n",
       "    .dataframe thead th {\n",
       "        text-align: right;\n",
       "    }\n",
       "</style>\n",
       "<table border=\"1\" class=\"dataframe\">\n",
       "  <thead>\n",
       "    <tr style=\"text-align: right;\">\n",
       "      <th></th>\n",
       "      <th>optimiser</th>\n",
       "      <th>transfer</th>\n",
       "      <th>deepened</th>\n",
       "      <th>learning rate</th>\n",
       "      <th>batch size</th>\n",
       "      <th>reg_penalty</th>\n",
       "      <th>loss_mean</th>\n",
       "      <th>loss_std</th>\n",
       "      <th>loss_min</th>\n",
       "      <th>acc_mean</th>\n",
       "      <th>acc_std</th>\n",
       "      <th>epochs_mean</th>\n",
       "      <th>epochs_std</th>\n",
       "    </tr>\n",
       "  </thead>\n",
       "  <tbody>\n",
       "    <tr>\n",
       "      <td>125</td>\n",
       "      <td>adam</td>\n",
       "      <td>True</td>\n",
       "      <td>False</td>\n",
       "      <td>0.0010</td>\n",
       "      <td>100</td>\n",
       "      <td>0.0010</td>\n",
       "      <td>0.643949</td>\n",
       "      <td>0.004509</td>\n",
       "      <td>0.639903</td>\n",
       "      <td>0.128205</td>\n",
       "      <td>0.003268</td>\n",
       "      <td>259.000000</td>\n",
       "      <td>23.643181</td>\n",
       "    </tr>\n",
       "    <tr>\n",
       "      <td>149</td>\n",
       "      <td>adam</td>\n",
       "      <td>True</td>\n",
       "      <td>False</td>\n",
       "      <td>0.0001</td>\n",
       "      <td>10</td>\n",
       "      <td>0.0010</td>\n",
       "      <td>0.644050</td>\n",
       "      <td>0.002747</td>\n",
       "      <td>0.641841</td>\n",
       "      <td>0.125065</td>\n",
       "      <td>0.001813</td>\n",
       "      <td>396.000000</td>\n",
       "      <td>53.018865</td>\n",
       "    </tr>\n",
       "    <tr>\n",
       "      <td>127</td>\n",
       "      <td>adam</td>\n",
       "      <td>False</td>\n",
       "      <td>False</td>\n",
       "      <td>0.0010</td>\n",
       "      <td>100</td>\n",
       "      <td>0.0010</td>\n",
       "      <td>0.644056</td>\n",
       "      <td>0.001912</td>\n",
       "      <td>0.642760</td>\n",
       "      <td>0.127159</td>\n",
       "      <td>0.004153</td>\n",
       "      <td>265.333333</td>\n",
       "      <td>27.754879</td>\n",
       "    </tr>\n",
       "    <tr>\n",
       "      <td>131</td>\n",
       "      <td>adam</td>\n",
       "      <td>False</td>\n",
       "      <td>False</td>\n",
       "      <td>0.0010</td>\n",
       "      <td>100</td>\n",
       "      <td>0.0001</td>\n",
       "      <td>0.644785</td>\n",
       "      <td>0.002324</td>\n",
       "      <td>0.642497</td>\n",
       "      <td>0.126112</td>\n",
       "      <td>0.002398</td>\n",
       "      <td>283.666667</td>\n",
       "      <td>6.027714</td>\n",
       "    </tr>\n",
       "    <tr>\n",
       "      <td>117</td>\n",
       "      <td>adam</td>\n",
       "      <td>True</td>\n",
       "      <td>False</td>\n",
       "      <td>0.0010</td>\n",
       "      <td>50</td>\n",
       "      <td>0.0001</td>\n",
       "      <td>0.644943</td>\n",
       "      <td>0.002305</td>\n",
       "      <td>0.642298</td>\n",
       "      <td>0.125065</td>\n",
       "      <td>0.003268</td>\n",
       "      <td>196.333333</td>\n",
       "      <td>51.791248</td>\n",
       "    </tr>\n",
       "    <tr>\n",
       "      <td>151</td>\n",
       "      <td>adam</td>\n",
       "      <td>False</td>\n",
       "      <td>False</td>\n",
       "      <td>0.0001</td>\n",
       "      <td>10</td>\n",
       "      <td>0.0010</td>\n",
       "      <td>0.645017</td>\n",
       "      <td>0.001530</td>\n",
       "      <td>0.643344</td>\n",
       "      <td>0.121402</td>\n",
       "      <td>0.000906</td>\n",
       "      <td>417.333333</td>\n",
       "      <td>79.147542</td>\n",
       "    </tr>\n",
       "    <tr>\n",
       "      <td>113</td>\n",
       "      <td>adam</td>\n",
       "      <td>True</td>\n",
       "      <td>False</td>\n",
       "      <td>0.0010</td>\n",
       "      <td>50</td>\n",
       "      <td>0.0010</td>\n",
       "      <td>0.645028</td>\n",
       "      <td>0.002804</td>\n",
       "      <td>0.642872</td>\n",
       "      <td>0.126112</td>\n",
       "      <td>0.001813</td>\n",
       "      <td>271.000000</td>\n",
       "      <td>109.421205</td>\n",
       "    </tr>\n",
       "    <tr>\n",
       "      <td>153</td>\n",
       "      <td>adam</td>\n",
       "      <td>True</td>\n",
       "      <td>False</td>\n",
       "      <td>0.0001</td>\n",
       "      <td>10</td>\n",
       "      <td>0.0001</td>\n",
       "      <td>0.645097</td>\n",
       "      <td>0.001429</td>\n",
       "      <td>0.643477</td>\n",
       "      <td>0.126112</td>\n",
       "      <td>0.003268</td>\n",
       "      <td>347.666667</td>\n",
       "      <td>39.463063</td>\n",
       "    </tr>\n",
       "    <tr>\n",
       "      <td>141</td>\n",
       "      <td>adam</td>\n",
       "      <td>True</td>\n",
       "      <td>False</td>\n",
       "      <td>0.0010</td>\n",
       "      <td>500</td>\n",
       "      <td>0.0001</td>\n",
       "      <td>0.645304</td>\n",
       "      <td>0.001717</td>\n",
       "      <td>0.643759</td>\n",
       "      <td>0.125065</td>\n",
       "      <td>0.000906</td>\n",
       "      <td>435.333333</td>\n",
       "      <td>22.678918</td>\n",
       "    </tr>\n",
       "    <tr>\n",
       "      <td>105</td>\n",
       "      <td>adam</td>\n",
       "      <td>True</td>\n",
       "      <td>False</td>\n",
       "      <td>0.0010</td>\n",
       "      <td>10</td>\n",
       "      <td>0.0001</td>\n",
       "      <td>0.645331</td>\n",
       "      <td>0.004321</td>\n",
       "      <td>0.642092</td>\n",
       "      <td>0.126635</td>\n",
       "      <td>0.005046</td>\n",
       "      <td>166.333333</td>\n",
       "      <td>35.725808</td>\n",
       "    </tr>\n",
       "    <tr>\n",
       "      <td>123</td>\n",
       "      <td>adam</td>\n",
       "      <td>False</td>\n",
       "      <td>False</td>\n",
       "      <td>0.0010</td>\n",
       "      <td>100</td>\n",
       "      <td>0.0100</td>\n",
       "      <td>0.645491</td>\n",
       "      <td>0.003492</td>\n",
       "      <td>0.641585</td>\n",
       "      <td>0.127682</td>\n",
       "      <td>0.005513</td>\n",
       "      <td>267.666667</td>\n",
       "      <td>37.978064</td>\n",
       "    </tr>\n",
       "    <tr>\n",
       "      <td>145</td>\n",
       "      <td>adam</td>\n",
       "      <td>True</td>\n",
       "      <td>False</td>\n",
       "      <td>0.0001</td>\n",
       "      <td>10</td>\n",
       "      <td>0.0100</td>\n",
       "      <td>0.646014</td>\n",
       "      <td>0.001976</td>\n",
       "      <td>0.644583</td>\n",
       "      <td>0.125065</td>\n",
       "      <td>0.003268</td>\n",
       "      <td>401.666667</td>\n",
       "      <td>20.599353</td>\n",
       "    </tr>\n",
       "    <tr>\n",
       "      <td>115</td>\n",
       "      <td>adam</td>\n",
       "      <td>False</td>\n",
       "      <td>False</td>\n",
       "      <td>0.0010</td>\n",
       "      <td>50</td>\n",
       "      <td>0.0010</td>\n",
       "      <td>0.646017</td>\n",
       "      <td>0.003590</td>\n",
       "      <td>0.643624</td>\n",
       "      <td>0.123496</td>\n",
       "      <td>0.006536</td>\n",
       "      <td>200.666667</td>\n",
       "      <td>28.431204</td>\n",
       "    </tr>\n",
       "    <tr>\n",
       "      <td>137</td>\n",
       "      <td>adam</td>\n",
       "      <td>True</td>\n",
       "      <td>False</td>\n",
       "      <td>0.0010</td>\n",
       "      <td>500</td>\n",
       "      <td>0.0010</td>\n",
       "      <td>0.646218</td>\n",
       "      <td>0.000982</td>\n",
       "      <td>0.645131</td>\n",
       "      <td>0.126635</td>\n",
       "      <td>0.003268</td>\n",
       "      <td>462.666667</td>\n",
       "      <td>19.857828</td>\n",
       "    </tr>\n",
       "    <tr>\n",
       "      <td>165</td>\n",
       "      <td>adam</td>\n",
       "      <td>True</td>\n",
       "      <td>False</td>\n",
       "      <td>0.0001</td>\n",
       "      <td>50</td>\n",
       "      <td>0.0001</td>\n",
       "      <td>0.646284</td>\n",
       "      <td>0.001253</td>\n",
       "      <td>0.645034</td>\n",
       "      <td>0.126112</td>\n",
       "      <td>0.001813</td>\n",
       "      <td>526.333333</td>\n",
       "      <td>25.890796</td>\n",
       "    </tr>\n",
       "    <tr>\n",
       "      <td>121</td>\n",
       "      <td>adam</td>\n",
       "      <td>True</td>\n",
       "      <td>False</td>\n",
       "      <td>0.0010</td>\n",
       "      <td>100</td>\n",
       "      <td>0.0100</td>\n",
       "      <td>0.646288</td>\n",
       "      <td>0.001675</td>\n",
       "      <td>0.644690</td>\n",
       "      <td>0.127682</td>\n",
       "      <td>0.001813</td>\n",
       "      <td>278.333333</td>\n",
       "      <td>29.194748</td>\n",
       "    </tr>\n",
       "    <tr>\n",
       "      <td>143</td>\n",
       "      <td>adam</td>\n",
       "      <td>False</td>\n",
       "      <td>False</td>\n",
       "      <td>0.0010</td>\n",
       "      <td>500</td>\n",
       "      <td>0.0001</td>\n",
       "      <td>0.646370</td>\n",
       "      <td>0.002844</td>\n",
       "      <td>0.643462</td>\n",
       "      <td>0.124542</td>\n",
       "      <td>0.002398</td>\n",
       "      <td>459.666667</td>\n",
       "      <td>35.388322</td>\n",
       "    </tr>\n",
       "    <tr>\n",
       "      <td>87</td>\n",
       "      <td>adam</td>\n",
       "      <td>False</td>\n",
       "      <td>False</td>\n",
       "      <td>0.0100</td>\n",
       "      <td>500</td>\n",
       "      <td>0.0100</td>\n",
       "      <td>0.646398</td>\n",
       "      <td>0.000857</td>\n",
       "      <td>0.645476</td>\n",
       "      <td>0.126635</td>\n",
       "      <td>0.003268</td>\n",
       "      <td>188.000000</td>\n",
       "      <td>13.747727</td>\n",
       "    </tr>\n",
       "    <tr>\n",
       "      <td>107</td>\n",
       "      <td>adam</td>\n",
       "      <td>False</td>\n",
       "      <td>False</td>\n",
       "      <td>0.0010</td>\n",
       "      <td>10</td>\n",
       "      <td>0.0001</td>\n",
       "      <td>0.646442</td>\n",
       "      <td>0.001533</td>\n",
       "      <td>0.644875</td>\n",
       "      <td>0.127682</td>\n",
       "      <td>0.002398</td>\n",
       "      <td>175.666667</td>\n",
       "      <td>46.543886</td>\n",
       "    </tr>\n",
       "    <tr>\n",
       "      <td>95</td>\n",
       "      <td>adam</td>\n",
       "      <td>False</td>\n",
       "      <td>False</td>\n",
       "      <td>0.0100</td>\n",
       "      <td>500</td>\n",
       "      <td>0.0001</td>\n",
       "      <td>0.646596</td>\n",
       "      <td>0.000992</td>\n",
       "      <td>0.645504</td>\n",
       "      <td>0.124542</td>\n",
       "      <td>0.003951</td>\n",
       "      <td>234.666667</td>\n",
       "      <td>22.120880</td>\n",
       "    </tr>\n",
       "  </tbody>\n",
       "</table>\n",
       "</div>"
      ],
      "text/plain": [
       "    optimiser  transfer  deepened  learning rate  batch size  reg_penalty  \\\n",
       "125      adam      True     False         0.0010         100       0.0010   \n",
       "149      adam      True     False         0.0001          10       0.0010   \n",
       "127      adam     False     False         0.0010         100       0.0010   \n",
       "131      adam     False     False         0.0010         100       0.0001   \n",
       "117      adam      True     False         0.0010          50       0.0001   \n",
       "151      adam     False     False         0.0001          10       0.0010   \n",
       "113      adam      True     False         0.0010          50       0.0010   \n",
       "153      adam      True     False         0.0001          10       0.0001   \n",
       "141      adam      True     False         0.0010         500       0.0001   \n",
       "105      adam      True     False         0.0010          10       0.0001   \n",
       "123      adam     False     False         0.0010         100       0.0100   \n",
       "145      adam      True     False         0.0001          10       0.0100   \n",
       "115      adam     False     False         0.0010          50       0.0010   \n",
       "137      adam      True     False         0.0010         500       0.0010   \n",
       "165      adam      True     False         0.0001          50       0.0001   \n",
       "121      adam      True     False         0.0010         100       0.0100   \n",
       "143      adam     False     False         0.0010         500       0.0001   \n",
       "87       adam     False     False         0.0100         500       0.0100   \n",
       "107      adam     False     False         0.0010          10       0.0001   \n",
       "95       adam     False     False         0.0100         500       0.0001   \n",
       "\n",
       "     loss_mean  loss_std  loss_min  acc_mean   acc_std  epochs_mean  \\\n",
       "125   0.643949  0.004509  0.639903  0.128205  0.003268   259.000000   \n",
       "149   0.644050  0.002747  0.641841  0.125065  0.001813   396.000000   \n",
       "127   0.644056  0.001912  0.642760  0.127159  0.004153   265.333333   \n",
       "131   0.644785  0.002324  0.642497  0.126112  0.002398   283.666667   \n",
       "117   0.644943  0.002305  0.642298  0.125065  0.003268   196.333333   \n",
       "151   0.645017  0.001530  0.643344  0.121402  0.000906   417.333333   \n",
       "113   0.645028  0.002804  0.642872  0.126112  0.001813   271.000000   \n",
       "153   0.645097  0.001429  0.643477  0.126112  0.003268   347.666667   \n",
       "141   0.645304  0.001717  0.643759  0.125065  0.000906   435.333333   \n",
       "105   0.645331  0.004321  0.642092  0.126635  0.005046   166.333333   \n",
       "123   0.645491  0.003492  0.641585  0.127682  0.005513   267.666667   \n",
       "145   0.646014  0.001976  0.644583  0.125065  0.003268   401.666667   \n",
       "115   0.646017  0.003590  0.643624  0.123496  0.006536   200.666667   \n",
       "137   0.646218  0.000982  0.645131  0.126635  0.003268   462.666667   \n",
       "165   0.646284  0.001253  0.645034  0.126112  0.001813   526.333333   \n",
       "121   0.646288  0.001675  0.644690  0.127682  0.001813   278.333333   \n",
       "143   0.646370  0.002844  0.643462  0.124542  0.002398   459.666667   \n",
       "87    0.646398  0.000857  0.645476  0.126635  0.003268   188.000000   \n",
       "107   0.646442  0.001533  0.644875  0.127682  0.002398   175.666667   \n",
       "95    0.646596  0.000992  0.645504  0.124542  0.003951   234.666667   \n",
       "\n",
       "     epochs_std  \n",
       "125   23.643181  \n",
       "149   53.018865  \n",
       "127   27.754879  \n",
       "131    6.027714  \n",
       "117   51.791248  \n",
       "151   79.147542  \n",
       "113  109.421205  \n",
       "153   39.463063  \n",
       "141   22.678918  \n",
       "105   35.725808  \n",
       "123   37.978064  \n",
       "145   20.599353  \n",
       "115   28.431204  \n",
       "137   19.857828  \n",
       "165   25.890796  \n",
       "121   29.194748  \n",
       "143   35.388322  \n",
       "87    13.747727  \n",
       "107   46.543886  \n",
       "95    22.120880  "
      ]
     },
     "execution_count": 39,
     "metadata": {},
     "output_type": "execute_result"
    }
   ],
   "source": [
    "data.sort_values(axis=0, by=\"loss_mean\")[col_list].head(20)"
   ]
  },
  {
   "cell_type": "markdown",
   "metadata": {},
   "source": [
    "#### II.IV.V Analysing the effect of transfer learning and network deepening\n",
    "This time transfer leaning does not seem to make a difference in performance either."
   ]
  },
  {
   "cell_type": "code",
   "execution_count": 40,
   "metadata": {},
   "outputs": [
    {
     "data": {
      "image/png": "[encoded data removed]",
      "text/plain": [
       "<Figure size 648x216 with 2 Axes>"
      ]
     },
     "metadata": {},
     "output_type": "display_data"
    }
   ],
   "source": [
    "g = sns.FacetGrid(data, col=\"transfer\", sharey=True, aspect=1.5, margin_titles=True)\n",
    "g.map(sns.barplot, \"deepened\", \"loss_mean\")\n",
    "plt.show()"
   ]
  },
  {
   "cell_type": "markdown",
   "metadata": {},
   "source": [
    "When looking at the epochs it takes for the model to find a stable configuration, we can replicate the results from the optimiser comparison: For models which are not deepened, transfer learning seems to have a small (and not significant) effect. Instead the real effect for increasing the speed of a stable solution seems to lie in deepening the network."
   ]
  },
  {
   "cell_type": "code",
   "execution_count": 41,
   "metadata": {},
   "outputs": [
    {
     "data": {
      "image/png": "[encoded data removed]",
      "text/plain": [
       "<Figure size 648x216 with 2 Axes>"
      ]
     },
     "metadata": {},
     "output_type": "display_data"
    }
   ],
   "source": [
    "g = sns.FacetGrid(data, col=\"transfer\", sharey=True, aspect=1.5, margin_titles=True)\n",
    "g.map(sns.barplot, \"deepened\", \"epochs_mean\")\n",
    "plt.show()"
   ]
  },
  {
   "cell_type": "markdown",
   "metadata": {},
   "source": [
    "### III. Outlook"
   ]
  },
  {
   "cell_type": "markdown",
   "metadata": {},
   "source": [
    "From these experiments, two conclusions can be drawn if a good and time-efficient prediction of outcome probabilities should be achieved:\n",
    "    - more data is needed for training\n",
    "    - the network should be deepened"
   ]
  }
 ],
 "metadata": {
  "kernelspec": {
   "display_name": "Python 3",
   "language": "python",
   "name": "python3"
  },
  "language_info": {
   "codemirror_mode": {
    "name": "ipython",
    "version": 3
   },
   "file_extension": ".py",
   "mimetype": "text/x-python",
   "name": "python",
   "nbconvert_exporter": "python",
   "pygments_lexer": "ipython3",
   "version": "3.7.4"
  }
 },
 "nbformat": 4,
 "nbformat_minor": 2
}
