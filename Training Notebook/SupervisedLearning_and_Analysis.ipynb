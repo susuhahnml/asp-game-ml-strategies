{
 "cells": [
  {
   "cell_type": "markdown",
   "metadata": {},
   "source": [
    "# How does Dominoes work? - A supervised learning approach to learn game dynamics and rewards from one-hot-encoded game states and actions."
   ]
  },
  {
   "cell_type": "markdown",
   "metadata": {},
   "source": [
    "## I. The Problem\n",
    "### I.I. The Learning Problem\n",
    "To learn the game dynamics, we have the model predict the next state (vector of length 30, one-hot encoded bist of information that describe the game state after an action) based on the previous state (length 30 one-hot-encoded vector) and an action (length 21 one-hot-encoded vector).  \n",
    "### I.II. The Input Data\n",
    "The input data consists of the current state (vector of length 30, one-hot encoded bist of information that describe the game state after an action) and an action (length 21 one-hot-encoded vector). We use it to predict either the next state (length 30 one-hot-encoded vector) or the probability that a given action in this situation leads to success.  \n",
    "Since the data used for training is collected from multiple games, it needs to be cleaned so that it is not the case that for the same combination of state and action, multiple probabilities can be learned."
   ]
  },
  {
   "cell_type": "code",
   "execution_count": 1,
   "metadata": {},
   "outputs": [
    {
     "name": "stderr",
     "output_type": "stream",
     "text": [
      "Using TensorFlow backend.\n"
     ]
    }
   ],
   "source": [
    "import warnings  \n",
    "import traceback\n",
    "import numpy as np\n",
    "import pandas as pd\n",
    "import seaborn as sns\n",
    "import matplotlib.pyplot as plt\n",
    "\n",
    "\n",
    "with warnings.catch_warnings():  \n",
    "    warnings.filterwarnings(\"ignore\",category=FutureWarning)\n",
    "    import keras.backend as K\n",
    "    import tensorflow as tf\n",
    "    from tensorflow.keras.optimizers import SGD\n",
    "    from tensorflow.keras.optimizers import Adam\n",
    "    from tensorflow.keras.layers import Dense\n",
    "    from tensorflow.keras.models import Sequential, Model, clone_model\n",
    "\n",
    "from sklearn.model_selection import KFold\n",
    "from sklearn.model_selection import train_test_split\n",
    "from itertools import product"
   ]
  },
  {
   "cell_type": "code",
   "execution_count": 2,
   "metadata": {},
   "outputs": [
    {
     "data": {
      "text/plain": [
       "[]"
      ]
     },
     "execution_count": 2,
     "metadata": {},
     "output_type": "execute_result"
    }
   ],
   "source": [
    "#check if GPU is available for calculations\n",
    "tf.config.experimental.list_physical_devices('GPU')"
   ]
  },
  {
   "cell_type": "code",
   "execution_count": 3,
   "metadata": {},
   "outputs": [],
   "source": [
    "\"\"\"\n",
    "reads in training data from file and divides it into input state, next state and probability of winning\n",
    "outputs a dictionary with training and testing data\n",
    "\"\"\"\n",
    "\n",
    "def divide_train_data(training_path, clean = False, test_size = 0.2):\n",
    "    pandas_train = pd.read_csv(training_path,sep=';')\n",
    "    if clean:\n",
    "        pandas_train = clean_data(pandas_train)\n",
    "    pandas_train = pandas_train.sample(frac=1).reset_index(drop=True)\n",
    "    train, test = train_test_split(pandas_train,test_size = test_size)\n",
    "    train_inputs = train.iloc[:,0:51]\n",
    "    train_next_label = train.iloc[:,51:81]\n",
    "    train_pred_label = train.iloc[:,-2:-1]\n",
    "    test_inputs = test.iloc[:,0:51]\n",
    "    test_next_label = test.iloc[:,51:81]\n",
    "    test_pred_label = test.iloc[:,-2:-1]\n",
    "    train_dict = {\"input\": train_inputs.to_numpy(), \"next\":train_next_label.to_numpy(), \"pred\": train_pred_label.to_numpy()}\n",
    "    test_dict = {\"input\": test_inputs.to_numpy(), \"next\": test_next_label.to_numpy(), \"pred\": test_pred_label.to_numpy()}\n",
    "    return train_dict, test_dict\n",
    "\n",
    "\"\"\"\n",
    "removes duplicate instances of the same state-input-state sequences keeping only the most-visited states\n",
    "\"\"\"\n",
    "def clean_data(dataframe):\n",
    "    cleaned_df = dataframe\n",
    "    cleaned_df_str = convert_cols(cleaned_df, str)\n",
    "    cleaned_df_str['combo'] = cleaned_df_str.apply(lambda x: ''.join(x), axis=1)\n",
    "    cleaned_df_str['combo'] = cleaned_df_str['combo'].str[:51]\n",
    "    cleaned_df_str = cleaned_df_str.sort_values('n', ascending=False).drop_duplicates(['combo'])\n",
    "    cleaned_df_str = cleaned_df_str.drop('combo', 1)\n",
    "    cleaned_df = convert_cols(cleaned_df_str, float)\n",
    "    diff = dataframe.shape[0] - cleaned_df.shape[0]\n",
    "    print(\"Removed {} duplicates with different probability scores\".format(diff))\n",
    "    print(\"This leaves {} instances for training and testing\".format(cleaned_df.shape[0]))\n",
    "    return cleaned_df\n",
    "\n",
    "\"\"\"\n",
    "converts columns (optinally specified by indices) in a dataframe into the specified data type\n",
    "\"\"\"\n",
    "def convert_cols(dataframe, datatype, indices=None):\n",
    "    res_df = dataframe\n",
    "    if indices:\n",
    "        for col in list(res_df.columns.values)[indices]:\n",
    "            res_df[col] = res_df[col].astype(datatype)\n",
    "    else:\n",
    "        for col in list(res_df.columns.values):\n",
    "            res_df[col] = res_df[col].astype(datatype)\n",
    "    return res_df"
   ]
  },
  {
   "cell_type": "markdown",
   "metadata": {},
   "source": [
    "## II. The Solution"
   ]
  },
  {
   "cell_type": "code",
   "execution_count": 4,
   "metadata": {},
   "outputs": [],
   "source": [
    "\"\"\"\n",
    "draws accuracy and loss curves for training\n",
    "\"\"\"\n",
    "def show_acc_loss_curves(hist, metric = \"acc\"):\n",
    "    if metric == \"mea\":\n",
    "        draw_dict = {\"loss\": {\"full\": \"loss\"}, \"mea_metric\": {\"full\": \"mea_metric\"}}\n",
    "    elif metric == \"acc\":\n",
    "        draw_dict = {\"loss\": {\"full\": \"loss\"}, \"acc\": {\"full\": \"accuracy\"}}\n",
    "    elif metric == \"both\":\n",
    "        {\"loss\": {\"full\": \"loss\"}, \"mea_metric\": {\"full\": \"mea_metric\"}, \"acc\": {\"full\": \"accuracy\"}}\n",
    "        \n",
    "    fig, axes = plt.subplots(nrows=1, ncols=len(draw_dict.keys()), figsize=(15, 5))\n",
    "\n",
    "    \n",
    "    for i, key in enumerate(draw_dict.keys()):\n",
    "        axes[i].plot(hist.history[key])\n",
    "        axes[i].plot(hist.history['val_'+key])\n",
    "        axes[i].set_title('model '+draw_dict[key][\"full\"])\n",
    "        axes[i].set_ylabel(key)\n",
    "        axes[i].set_xlabel('epoch')\n",
    "        axes[i].legend(['train', 'test'], loc='upper left')\n",
    "    fig.tight_layout()\n",
    "\n",
    "\"\"\"\n",
    "evaluates model for either next state (test=\"next\") or probablity of winning (test=\"pred\") and return evaluation metrics\n",
    "\"\"\"\n",
    "def test_model(model, test_data, test):\n",
    "    return model.evaluate(test_data[\"input\"], test_data[test], verbose=0)"
   ]
  },
  {
   "cell_type": "markdown",
   "metadata": {},
   "source": [
    "### II.I. Supervised Learning of Game Dynamics\n",
    "To learn the game dynamics, we have the model predict the next state based on the previous state and an action.  \n",
    "To do this, we use a simple neural network with a ```51-120-30``` structure."
   ]
  },
  {
   "cell_type": "code",
   "execution_count": 5,
   "metadata": {},
   "outputs": [
    {
     "name": "stdout",
     "output_type": "stream",
     "text": [
      "Model: \"sequential\"\n",
      "_________________________________________________________________\n",
      "Layer (type)                 Output Shape              Param #   \n",
      "=================================================================\n",
      "dense (Dense)                (None, 120)               6240      \n",
      "_________________________________________________________________\n",
      "dense_1 (Dense)              (None, 30)                3630      \n",
      "=================================================================\n",
      "Total params: 9,870\n",
      "Trainable params: 9,870\n",
      "Non-trainable params: 0\n",
      "_________________________________________________________________\n"
     ]
    }
   ],
   "source": [
    "dyn_model = Sequential()\n",
    "dyn_model.add(Dense(120,input_dim=51, activation=\"relu\"))\n",
    "dyn_model.add(Dense(30, activation='sigmoid'))\n",
    "dyn_model.compile(loss='binary_crossentropy',\n",
    "              optimizer='adam', # Root Mean Square Propagation\n",
    "              metrics=['acc']) # Accuracy performance metric\n",
    "dyn_model.summary()"
   ]
  },
  {
   "cell_type": "markdown",
   "metadata": {},
   "source": [
    "#### Data Processing\n",
    "We then read in the entire training data and divide it into a training and testing data set (20% of data being used for testing)."
   ]
  },
  {
   "cell_type": "code",
   "execution_count": 6,
   "metadata": {},
   "outputs": [
    {
     "name": "stdout",
     "output_type": "stream",
     "text": [
      "Removed 5849 duplicates with different probability scores\n",
      "This leaves 7585 instances for training and testing\n"
     ]
    }
   ],
   "source": [
    "train_data, test_data = divide_train_data(\"train-200games-1000-iter.csv\", clean=True)"
   ]
  },
  {
   "cell_type": "markdown",
   "metadata": {},
   "source": [
    "#### Training\n",
    "We subsequently train the model to predict the next state from the current state and a given action."
   ]
  },
  {
   "cell_type": "code",
   "execution_count": 7,
   "metadata": {},
   "outputs": [
    {
     "name": "stdout",
     "output_type": "stream",
     "text": [
      "WARNING:tensorflow:From /home/lks/anaconda3/lib/python3.7/site-packages/tensorflow/python/ops/math_grad.py:1250: add_dispatch_support.<locals>.wrapper (from tensorflow.python.ops.array_ops) is deprecated and will be removed in a future version.\n",
      "Instructions for updating:\n",
      "Use tf.where in 2.0, which has the same broadcast rule as np.where\n"
     ]
    }
   ],
   "source": [
    "dyn_history = dyn_model.fit(train_data[\"input\"], train_data[\"next\"], epochs=500, batch_size=50, verbose=0, \n",
    "                        validation_split=0.33)"
   ]
  },
  {
   "cell_type": "markdown",
   "metadata": {},
   "source": [
    "#### Results  \n",
    "The results show that the network is able to quickly extract the relevant dynamics from the input data, represented by the steep decline of the loss curve after only a few epochs."
   ]
  },
  {
   "cell_type": "code",
   "execution_count": 8,
   "metadata": {},
   "outputs": [
    {
     "data": {
      "image/png": "[encoded data removed]",
      "text/plain": [
       "<Figure size 1080x360 with 2 Axes>"
      ]
     },
     "metadata": {
      "needs_background": "light"
     },
     "output_type": "display_data"
    }
   ],
   "source": [
    "# summarize history for loss and acc\n",
    "show_acc_loss_curves(dyn_history)"
   ]
  },
  {
   "cell_type": "code",
   "execution_count": 9,
   "metadata": {},
   "outputs": [
    {
     "name": "stdout",
     "output_type": "stream",
     "text": [
      "loss: 8.044208172643254e-09, acc: 1.0\n"
     ]
    }
   ],
   "source": [
    "results = test_model(dyn_model, test_data, test=\"next\")\n",
    "print(\"loss: {}, acc: {}\".format(results[0],results[1]))"
   ]
  },
  {
   "cell_type": "markdown",
   "metadata": {},
   "source": [
    "### II.II. Transfer Learning\n",
    "In order to better learn the probability that a given action in a specific situation leads to winning the game, we use the trained model from the previous task and attach 2 more layers on top of it. This is meant to use the knowledge gained about game dynamics for predicting the probability of winning after a given action.  \n",
    "\n",
    "#### Distribution of labels\n",
    "First however, we take a look at the distribution of outcome probabilities.  \n",
    "As we can see, they are not equally distributed, which makes sense as most actions have a low probability of success. Two other peaks occur for ambigous actions (p~0.5) and actions with a high probability of winning."
   ]
  },
  {
   "cell_type": "code",
   "execution_count": 10,
   "metadata": {},
   "outputs": [
    {
     "data": {
      "image/png": "[encoded data removed]",
      "text/plain": [
       "<Figure size 432x288 with 1 Axes>"
      ]
     },
     "metadata": {
      "needs_background": "light"
     },
     "output_type": "display_data"
    }
   ],
   "source": [
    "plt.hist(train_data[\"pred\"],bins=3)\n",
    "plt.hist(train_data[\"pred\"])\n",
    "plt.show()"
   ]
  },
  {
   "cell_type": "code",
   "execution_count": 11,
   "metadata": {},
   "outputs": [],
   "source": [
    "# define custom log loss\n",
    "def log_loss(y_true, y_pred):\n",
    "    return K.mean(-K.log(abs(y_true - y_pred)))\n",
    "\n",
    "# define custom mean absolute error metric\n",
    "def mea_metric(y_true, y_pred):\n",
    "    return K.mean(abs(y_true - y_pred))\n",
    "\"\"\"\n",
    "creates deep copy of a model including its weights\n",
    "\"\"\"\n",
    "def copy_model(model, loss, optimiser):\n",
    "    model_copy= clone_model(model)\n",
    "    \n",
    "    if optimiser == \"nag\":\n",
    "        opt = SGD(learning_rate=learning_rate, nesterov=True)\n",
    "    elif optimiser == \"adam\":\n",
    "        opt = Adam(learning_rate=learning_rate)\n",
    "        \n",
    "    model_copy.compile(loss=loss, optimizer=opt, metrics=[\"acc\", mea_metric])\n",
    "    model_copy.set_weights(model.get_weights())\n",
    "    return model_copy\n",
    "\n",
    "\"\"\"\n",
    "creates model based on given input parameters\n",
    "\"\"\"\n",
    "def create_model(last_activation, loss_funct, optimiser, learning_rate, base_model = dyn_model, transfer_learning = True):\n",
    "    # remove output layer of base model\n",
    "    if loss_funct == \"log_loss\":\n",
    "        loss_funct = log_loss\n",
    "\n",
    "    # transfer learning condition\n",
    "    if transfer_learning:\n",
    "        model = copy_model(base_model, loss_funct, optimiser)\n",
    "        model.pop()\n",
    "        model.layers[0].trainable = False\n",
    "        # additional layers for learning\n",
    "        start = Dense(120, activation='relu')(model.layers[-1].output)\n",
    "        end = Dense(250, activation='relu')(start)\n",
    "        out_r = Dense(1, activation=last_activation, name='r_prop')(end)\n",
    "        final_model = Model(model.input,out_r)\n",
    "    else:\n",
    "        final_model = Sequential()\n",
    "        final_model.add(Dense(120,input_dim=51, activation=\"relu\"))\n",
    "        final_model.add(Dense(250, activation='relu'))\n",
    "        final_model.add(Dense(1, activation=last_activation, name='r_prop'))\n",
    "        \n",
    "    # Compile model\n",
    "    if optimiser == \"nag\":\n",
    "        opt = SGD(learning_rate=learning_rate, nesterov=True)\n",
    "    elif optimiser == \"adam\":\n",
    "        opt = Adam(learning_rate=learning_rate)\n",
    "    final_model.compile(loss=loss_funct, optimizer=opt, metrics=[\"acc\", mea_metric])\n",
    "    \n",
    "    return final_model"
   ]
  },
  {
   "cell_type": "markdown",
   "metadata": {},
   "source": [
    "#### Grid Search\n",
    "Since we were not completely sure which combination of activation and loss functions was best suited to this purpose, we created a grid search over the following parameters:  \n",
    "- ***activation of last layer***: sigmoid or linear\n",
    "- ***loss function***: cross-entropy/logloss, mean squared error/Brier score for logistic activation\n",
    "- ***optimiser***: Nesterov Momentum (NAG), Adaptive Moment Estimation (ADAM)\n",
    "- ***learning rate***: 0.0001, 0.001, 0.01, 0.1\n",
    "- ***batch size***: 10, 50, 100, 500  \n",
    "  \n",
    "\n",
    "Since two different loss functions will be tested, comparing the loss will not be sufficient. Thus, as an independent metric, we addtionally measure the ***mean absolute error*** (mae) when evaluating the model."
   ]
  },
  {
   "cell_type": "code",
   "execution_count": null,
   "metadata": {},
   "outputs": [],
   "source": [
    "# set hyperparameter search space\n",
    "last_activation = [\"linear\", \"sigmoid\"]\n",
    "loss_funct = [\"mse\"]\n",
    "optimiser = [\"nag\", \"adam\"]\n",
    "learning_rate = [0.0001, 0.001]\n",
    "batch_size = [10, 50, 100, 500]\n",
    "epochs = [100]\n",
    "transfer = [True]\n",
    "\n",
    "# create list of all different parameter combinations\n",
    "param_grid = dict(last_activation = last_activation, loss_funct = loss_funct, optimiser = optimiser,\n",
    "                  learning_rate = learning_rate, batch_size = batch_size, epochs = epochs, transfer = transfer)\n",
    "combinations = list(product(*param_grid.values()))\n",
    "\n",
    "\n",
    "# create containers for resulting data\n",
    "res_df = pd.DataFrame(columns=['transfer','last activation','loss_funct','optimiser','learning rate','batch size',\n",
    "                               'loss1', 'acc1', 'mae1',\n",
    "                               'loss2', 'acc2', 'mae2',\n",
    "                               'loss3', 'acc3', 'mae3'])\n",
    "hist_dict_global = {}\n",
    "\n",
    "\n",
    "# 3-fold grid search over the combinations defined above\n",
    "for i, combination in enumerate(combinations):\n",
    "    \n",
    "    kf = KFold(n_splits=3, random_state=42, shuffle=False)\n",
    "    hist_dict_local = {}\n",
    "    metrics_dict = {}\n",
    "    \n",
    "    print(\"{}/{}: {} - folds completed: \".format(i+1,len(combinations), combination), end=\"\", flush=True)\n",
    "    \n",
    "    for j, (train_index, test_index) in enumerate(kf.split(train_data[\"input\"])):\n",
    "        X_train, X_test = train_data[\"input\"][train_index], train_data[\"input\"][test_index]\n",
    "        y_train, y_test = train_data[\"pred\"][train_index], train_data[\"pred\"][test_index]\n",
    "        \n",
    "        try:\n",
    "            model = create_model(combination[0], combination[1], combination[2], combination[3], \n",
    "                                 transfer_learning = combination[6])\n",
    "            hist = model.fit(X_train, y_train, epochs=combination[5], batch_size=combination[4], verbose=0, \n",
    "                             validation_data=(X_test, y_test), use_multiprocessing = True)\n",
    "            hist_dict_local[j+1] = hist\n",
    "        except Exception as error:\n",
    "            hist_dict_local[j+1] = None\n",
    "            print(\"Training failed for {} - fold {}\".format(combination, j+1))\n",
    "            traceback.print_exc()\n",
    "        \n",
    "        try:        \n",
    "            loss, acc, mae = test_model(model, test_data, test=\"pred\")\n",
    "            metrics_dict[j+1] = {\"loss\": loss, \"acc\": acc, \"mae\": mae}\n",
    "            \n",
    "            if j < 2:\n",
    "                print(\"{}-\".format(j+1), end=\"\", flush=True)\n",
    "            else:\n",
    "                print(\"{}\".format(j+1))\n",
    "            \n",
    "        except Exception as error:\n",
    "            hist_dict_local[j+1] = None\n",
    "            metrics_dict[j+1] = {\"loss\": None, \"mae\": None}\n",
    "            print(\"Metric calculations failed for {} - fold {}\".format(combination, j+1))\n",
    "            traceback.print_exc()\n",
    "    \n",
    "    row = {'transfer': combination[6], 'last activation': combination[0],'loss_funct': combination[1],\n",
    "           'optimiser': combination[2], 'learning rate': combination[3], 'batch size': combination[4],\n",
    "           'loss1': metrics_dict[1][\"loss\"], 'acc1': metrics_dict[1][\"acc\"], 'mae1': metrics_dict[1][\"mae\"],\n",
    "           'loss2': metrics_dict[2][\"loss\"], 'acc2': metrics_dict[2][\"acc\"], 'mae2': metrics_dict[2][\"mae\"],\n",
    "           'loss3': metrics_dict[3][\"loss\"], 'acc3': metrics_dict[3][\"acc\"], 'mae3': metrics_dict[3][\"mae\"]}\n",
    "    res_df = res_df.append(row , ignore_index=True)\n",
    "    res_df.to_csv(\"grid_search_data.csv\" , sep=\";\")\n",
    "    hist_dict_global[combination] = hist_dict_local\n",
    "    "
   ]
  },
  {
   "cell_type": "markdown",
   "metadata": {},
   "source": [
    "## III. Analysis\n",
    "The first grid search consisted of 128 different combinations with 3 results for loss, accuracy and mae.  "
   ]
  },
  {
   "cell_type": "code",
   "execution_count": 12,
   "metadata": {},
   "outputs": [],
   "source": [
    "# read in data\n",
    "data = pd.read_csv(\"grid_search_data.csv\", sep=\";\", index_col=0)"
   ]
  },
  {
   "cell_type": "markdown",
   "metadata": {},
   "source": [
    "### III.I. NaN-Removal\n",
    "Unfortunately, due to unlucky combinations of learning rate and loss function, some of the results are represented as ```NaN``` values."
   ]
  },
  {
   "cell_type": "code",
   "execution_count": 13,
   "metadata": {},
   "outputs": [
    {
     "name": "stdout",
     "output_type": "stream",
     "text": [
      "Out of 128 results, 33 contain NaNs.\n",
      "The columsn including NaNs are ['loss1', 'mae1', 'loss2', 'mae2', 'loss3', 'mae3']\n"
     ]
    }
   ],
   "source": [
    "null_columns=data.columns[data.isnull().any()]\n",
    "idx = data.index[data.isnull().any(1)]\n",
    "print(\"Out of {} results, {} contain NaNs.\".format(data.shape[0], data.loc[idx,:].shape[0]))\n",
    "print(\"The columsn including NaNs are {}\".format(list(null_columns)))"
   ]
  },
  {
   "cell_type": "markdown",
   "metadata": {},
   "source": [
    "So, as there are NaNs for loss and mae values, for each combination, we count the number of NaNs, as meaningful aggregation metrics (like mean and standard deviation) can only be computed based on a minimum of two values.  \n",
    "Since only the mean absolute error can be meaningfully compared, we limit our analysis to the mae metrics."
   ]
  },
  {
   "cell_type": "code",
   "execution_count": 14,
   "metadata": {},
   "outputs": [
    {
     "data": {
      "text/plain": [
       "last activation  loss_funct  optimiser  mae_na\n",
       "linear           log_loss    adam       0         16\n",
       "                             nag        0         16\n",
       "                 mse         adam       0         16\n",
       "                             nag        0          8\n",
       "                                        3          6\n",
       "                                        2          2\n",
       "sigmoid          log_loss    adam       2          9\n",
       "                                        1          4\n",
       "                                        0          3\n",
       "                             nag        1          7\n",
       "                                        0          4\n",
       "                                        2          4\n",
       "                                        3          1\n",
       "                 mse         adam       0         16\n",
       "                             nag        0         16\n",
       "Name: mae_na, dtype: int64"
      ]
     },
     "execution_count": 14,
     "metadata": {},
     "output_type": "execute_result"
    }
   ],
   "source": [
    "# check for nan values in mae columns\n",
    "data[\"mae_na\"] = data.loc[:,[\"mae1\",\"mae2\", \"mae3\"]].isnull().sum(1)\n",
    "# and see how they are distributed over different combinations\n",
    "data.groupby([\"last activation\", \"loss_funct\", \"optimiser\"])[\"mae_na\"].value_counts()"
   ]
  },
  {
   "cell_type": "markdown",
   "metadata": {},
   "source": [
    "We see, that most NaNs are created when combining a sigmoid activation function, with log-loss and adam-optimiser (13 cases of NaNs), followed by the combinations sigmoid-log_loss-nag (12) and linear-mse-nag (8).  \n",
    "  \n",
    "The next step is to remove all instances with 2 or more missing maes as otherwise no meaningful aggreagation metrics can be computed.\n",
    "\n",
    "### III.II. Calculation and analysis of aggregation metrics (mea mean and std)\n",
    "Afterwards we calculate mean and standard devaiation of the mea estimate and save the minimum value from all 3 folds also,"
   ]
  },
  {
   "cell_type": "code",
   "execution_count": 15,
   "metadata": {},
   "outputs": [],
   "source": [
    "# remove rows that don't have a at least 2 mae scores\n",
    "data_rm_na = data[(data.mae_na < 2)]\n",
    "data_rm_na = data_rm_na.copy()"
   ]
  },
  {
   "cell_type": "code",
   "execution_count": 16,
   "metadata": {},
   "outputs": [],
   "source": [
    "# compute aggregation metrics\n",
    "data_rm_na[\"mae_mean\"] = data_rm_na[['mae1', 'mae2', 'mae3']].mean(axis=1, skipna = True)\n",
    "data_rm_na[\"mae_std\"] = data_rm_na[['mae1', 'mae2', 'mae3']].std(axis=1, skipna = True)\n",
    "# get minimum value\n",
    "data_rm_na[\"mae_min\"] = data_rm_na[[\"mae1\",\"mae2\", \"mae3\"]].min(1)"
   ]
  },
  {
   "cell_type": "markdown",
   "metadata": {},
   "source": [
    "As we compare the top 5 results sorted by either ascending minimum mae or ascending mean mae, we see that the top 3 results are the same and that the best results are achieved with the mean squared error loss function and that the nag optimiser seems to also lead to better results in the majority of times."
   ]
  },
  {
   "cell_type": "code",
   "execution_count": 17,
   "metadata": {},
   "outputs": [
    {
     "data": {
      "text/html": [
       "<div>\n",
       "<style scoped>\n",
       "    .dataframe tbody tr th:only-of-type {\n",
       "        vertical-align: middle;\n",
       "    }\n",
       "\n",
       "    .dataframe tbody tr th {\n",
       "        vertical-align: top;\n",
       "    }\n",
       "\n",
       "    .dataframe thead th {\n",
       "        text-align: right;\n",
       "    }\n",
       "</style>\n",
       "<table border=\"1\" class=\"dataframe\">\n",
       "  <thead>\n",
       "    <tr style=\"text-align: right;\">\n",
       "      <th></th>\n",
       "      <th>last activation</th>\n",
       "      <th>loss_funct</th>\n",
       "      <th>optimiser</th>\n",
       "      <th>learning rate</th>\n",
       "      <th>batch size</th>\n",
       "      <th>mae1</th>\n",
       "      <th>mae2</th>\n",
       "      <th>mae3</th>\n",
       "      <th>mae_mean</th>\n",
       "      <th>mae_std</th>\n",
       "      <th>mae_min</th>\n",
       "    </tr>\n",
       "  </thead>\n",
       "  <tbody>\n",
       "    <tr>\n",
       "      <td>64</td>\n",
       "      <td>sigmoid</td>\n",
       "      <td>mse</td>\n",
       "      <td>nag</td>\n",
       "      <td>0.0001</td>\n",
       "      <td>10</td>\n",
       "      <td>0.236169</td>\n",
       "      <td>0.237950</td>\n",
       "      <td>0.235087</td>\n",
       "      <td>0.236402</td>\n",
       "      <td>0.001445</td>\n",
       "      <td>0.235087</td>\n",
       "    </tr>\n",
       "    <tr>\n",
       "      <td>70</td>\n",
       "      <td>sigmoid</td>\n",
       "      <td>mse</td>\n",
       "      <td>nag</td>\n",
       "      <td>0.0010</td>\n",
       "      <td>100</td>\n",
       "      <td>0.239391</td>\n",
       "      <td>0.236466</td>\n",
       "      <td>0.236841</td>\n",
       "      <td>0.237566</td>\n",
       "      <td>0.001592</td>\n",
       "      <td>0.236466</td>\n",
       "    </tr>\n",
       "    <tr>\n",
       "      <td>69</td>\n",
       "      <td>sigmoid</td>\n",
       "      <td>mse</td>\n",
       "      <td>nag</td>\n",
       "      <td>0.0010</td>\n",
       "      <td>50</td>\n",
       "      <td>0.240394</td>\n",
       "      <td>0.251649</td>\n",
       "      <td>0.244099</td>\n",
       "      <td>0.245381</td>\n",
       "      <td>0.005736</td>\n",
       "      <td>0.240394</td>\n",
       "    </tr>\n",
       "    <tr>\n",
       "      <td>3</td>\n",
       "      <td>sigmoid</td>\n",
       "      <td>mse</td>\n",
       "      <td>nag</td>\n",
       "      <td>0.0100</td>\n",
       "      <td>500</td>\n",
       "      <td>0.249529</td>\n",
       "      <td>0.262735</td>\n",
       "      <td>0.242378</td>\n",
       "      <td>0.251547</td>\n",
       "      <td>0.010328</td>\n",
       "      <td>0.242378</td>\n",
       "    </tr>\n",
       "    <tr>\n",
       "      <td>98</td>\n",
       "      <td>linear</td>\n",
       "      <td>mse</td>\n",
       "      <td>nag</td>\n",
       "      <td>0.0001</td>\n",
       "      <td>100</td>\n",
       "      <td>0.254174</td>\n",
       "      <td>0.247068</td>\n",
       "      <td>0.244842</td>\n",
       "      <td>0.248695</td>\n",
       "      <td>0.004874</td>\n",
       "      <td>0.244842</td>\n",
       "    </tr>\n",
       "    <tr>\n",
       "      <td>41</td>\n",
       "      <td>linear</td>\n",
       "      <td>mse</td>\n",
       "      <td>adam</td>\n",
       "      <td>0.0100</td>\n",
       "      <td>50</td>\n",
       "      <td>0.252557</td>\n",
       "      <td>0.245523</td>\n",
       "      <td>0.268267</td>\n",
       "      <td>0.255449</td>\n",
       "      <td>0.011645</td>\n",
       "      <td>0.245523</td>\n",
       "    </tr>\n",
       "    <tr>\n",
       "      <td>42</td>\n",
       "      <td>linear</td>\n",
       "      <td>mse</td>\n",
       "      <td>adam</td>\n",
       "      <td>0.0100</td>\n",
       "      <td>100</td>\n",
       "      <td>0.260853</td>\n",
       "      <td>0.246119</td>\n",
       "      <td>0.250726</td>\n",
       "      <td>0.252566</td>\n",
       "      <td>0.007537</td>\n",
       "      <td>0.246119</td>\n",
       "    </tr>\n",
       "    <tr>\n",
       "      <td>43</td>\n",
       "      <td>linear</td>\n",
       "      <td>mse</td>\n",
       "      <td>adam</td>\n",
       "      <td>0.0100</td>\n",
       "      <td>500</td>\n",
       "      <td>0.274805</td>\n",
       "      <td>0.263723</td>\n",
       "      <td>0.246428</td>\n",
       "      <td>0.261652</td>\n",
       "      <td>0.014301</td>\n",
       "      <td>0.246428</td>\n",
       "    </tr>\n",
       "    <tr>\n",
       "      <td>97</td>\n",
       "      <td>linear</td>\n",
       "      <td>mse</td>\n",
       "      <td>nag</td>\n",
       "      <td>0.0001</td>\n",
       "      <td>50</td>\n",
       "      <td>0.250003</td>\n",
       "      <td>0.254338</td>\n",
       "      <td>0.246466</td>\n",
       "      <td>0.250269</td>\n",
       "      <td>0.003943</td>\n",
       "      <td>0.246466</td>\n",
       "    </tr>\n",
       "    <tr>\n",
       "      <td>103</td>\n",
       "      <td>linear</td>\n",
       "      <td>mse</td>\n",
       "      <td>nag</td>\n",
       "      <td>0.0010</td>\n",
       "      <td>500</td>\n",
       "      <td>0.247662</td>\n",
       "      <td>0.254865</td>\n",
       "      <td>0.252870</td>\n",
       "      <td>0.251799</td>\n",
       "      <td>0.003719</td>\n",
       "      <td>0.247662</td>\n",
       "    </tr>\n",
       "  </tbody>\n",
       "</table>\n",
       "</div>"
      ],
      "text/plain": [
       "    last activation loss_funct optimiser  learning rate  batch size      mae1  \\\n",
       "64          sigmoid        mse       nag         0.0001          10  0.236169   \n",
       "70          sigmoid        mse       nag         0.0010         100  0.239391   \n",
       "69          sigmoid        mse       nag         0.0010          50  0.240394   \n",
       "3           sigmoid        mse       nag         0.0100         500  0.249529   \n",
       "98           linear        mse       nag         0.0001         100  0.254174   \n",
       "41           linear        mse      adam         0.0100          50  0.252557   \n",
       "42           linear        mse      adam         0.0100         100  0.260853   \n",
       "43           linear        mse      adam         0.0100         500  0.274805   \n",
       "97           linear        mse       nag         0.0001          50  0.250003   \n",
       "103          linear        mse       nag         0.0010         500  0.247662   \n",
       "\n",
       "         mae2      mae3  mae_mean   mae_std   mae_min  \n",
       "64   0.237950  0.235087  0.236402  0.001445  0.235087  \n",
       "70   0.236466  0.236841  0.237566  0.001592  0.236466  \n",
       "69   0.251649  0.244099  0.245381  0.005736  0.240394  \n",
       "3    0.262735  0.242378  0.251547  0.010328  0.242378  \n",
       "98   0.247068  0.244842  0.248695  0.004874  0.244842  \n",
       "41   0.245523  0.268267  0.255449  0.011645  0.245523  \n",
       "42   0.246119  0.250726  0.252566  0.007537  0.246119  \n",
       "43   0.263723  0.246428  0.261652  0.014301  0.246428  \n",
       "97   0.254338  0.246466  0.250269  0.003943  0.246466  \n",
       "103  0.254865  0.252870  0.251799  0.003719  0.247662  "
      ]
     },
     "execution_count": 17,
     "metadata": {},
     "output_type": "execute_result"
    }
   ],
   "source": [
    "col_list = [\"last activation\", \"loss_funct\", \"optimiser\", \"learning rate\", \"batch size\", \"mae1\", \"mae2\", \"mae3\", \"mae_mean\", \"mae_std\", \"mae_min\"]\n",
    "data_rm_na.sort_values(axis=0, by=\"mae_min\")[col_list].head(10)"
   ]
  },
  {
   "cell_type": "code",
   "execution_count": 18,
   "metadata": {},
   "outputs": [
    {
     "data": {
      "text/html": [
       "<div>\n",
       "<style scoped>\n",
       "    .dataframe tbody tr th:only-of-type {\n",
       "        vertical-align: middle;\n",
       "    }\n",
       "\n",
       "    .dataframe tbody tr th {\n",
       "        vertical-align: top;\n",
       "    }\n",
       "\n",
       "    .dataframe thead th {\n",
       "        text-align: right;\n",
       "    }\n",
       "</style>\n",
       "<table border=\"1\" class=\"dataframe\">\n",
       "  <thead>\n",
       "    <tr style=\"text-align: right;\">\n",
       "      <th></th>\n",
       "      <th>last activation</th>\n",
       "      <th>loss_funct</th>\n",
       "      <th>optimiser</th>\n",
       "      <th>learning rate</th>\n",
       "      <th>batch size</th>\n",
       "      <th>mae1</th>\n",
       "      <th>mae2</th>\n",
       "      <th>mae3</th>\n",
       "      <th>mae_mean</th>\n",
       "      <th>mae_std</th>\n",
       "      <th>mae_min</th>\n",
       "    </tr>\n",
       "  </thead>\n",
       "  <tbody>\n",
       "    <tr>\n",
       "      <td>64</td>\n",
       "      <td>sigmoid</td>\n",
       "      <td>mse</td>\n",
       "      <td>nag</td>\n",
       "      <td>0.0001</td>\n",
       "      <td>10</td>\n",
       "      <td>0.236169</td>\n",
       "      <td>0.237950</td>\n",
       "      <td>0.235087</td>\n",
       "      <td>0.236402</td>\n",
       "      <td>0.001445</td>\n",
       "      <td>0.235087</td>\n",
       "    </tr>\n",
       "    <tr>\n",
       "      <td>70</td>\n",
       "      <td>sigmoid</td>\n",
       "      <td>mse</td>\n",
       "      <td>nag</td>\n",
       "      <td>0.0010</td>\n",
       "      <td>100</td>\n",
       "      <td>0.239391</td>\n",
       "      <td>0.236466</td>\n",
       "      <td>0.236841</td>\n",
       "      <td>0.237566</td>\n",
       "      <td>0.001592</td>\n",
       "      <td>0.236466</td>\n",
       "    </tr>\n",
       "    <tr>\n",
       "      <td>69</td>\n",
       "      <td>sigmoid</td>\n",
       "      <td>mse</td>\n",
       "      <td>nag</td>\n",
       "      <td>0.0010</td>\n",
       "      <td>50</td>\n",
       "      <td>0.240394</td>\n",
       "      <td>0.251649</td>\n",
       "      <td>0.244099</td>\n",
       "      <td>0.245381</td>\n",
       "      <td>0.005736</td>\n",
       "      <td>0.240394</td>\n",
       "    </tr>\n",
       "    <tr>\n",
       "      <td>98</td>\n",
       "      <td>linear</td>\n",
       "      <td>mse</td>\n",
       "      <td>nag</td>\n",
       "      <td>0.0001</td>\n",
       "      <td>100</td>\n",
       "      <td>0.254174</td>\n",
       "      <td>0.247068</td>\n",
       "      <td>0.244842</td>\n",
       "      <td>0.248695</td>\n",
       "      <td>0.004874</td>\n",
       "      <td>0.244842</td>\n",
       "    </tr>\n",
       "    <tr>\n",
       "      <td>97</td>\n",
       "      <td>linear</td>\n",
       "      <td>mse</td>\n",
       "      <td>nag</td>\n",
       "      <td>0.0001</td>\n",
       "      <td>50</td>\n",
       "      <td>0.250003</td>\n",
       "      <td>0.254338</td>\n",
       "      <td>0.246466</td>\n",
       "      <td>0.250269</td>\n",
       "      <td>0.003943</td>\n",
       "      <td>0.246466</td>\n",
       "    </tr>\n",
       "    <tr>\n",
       "      <td>71</td>\n",
       "      <td>sigmoid</td>\n",
       "      <td>mse</td>\n",
       "      <td>nag</td>\n",
       "      <td>0.0010</td>\n",
       "      <td>500</td>\n",
       "      <td>0.249200</td>\n",
       "      <td>0.252591</td>\n",
       "      <td>0.249421</td>\n",
       "      <td>0.250404</td>\n",
       "      <td>0.001897</td>\n",
       "      <td>0.249200</td>\n",
       "    </tr>\n",
       "    <tr>\n",
       "      <td>3</td>\n",
       "      <td>sigmoid</td>\n",
       "      <td>mse</td>\n",
       "      <td>nag</td>\n",
       "      <td>0.0100</td>\n",
       "      <td>500</td>\n",
       "      <td>0.249529</td>\n",
       "      <td>0.262735</td>\n",
       "      <td>0.242378</td>\n",
       "      <td>0.251547</td>\n",
       "      <td>0.010328</td>\n",
       "      <td>0.242378</td>\n",
       "    </tr>\n",
       "    <tr>\n",
       "      <td>103</td>\n",
       "      <td>linear</td>\n",
       "      <td>mse</td>\n",
       "      <td>nag</td>\n",
       "      <td>0.0010</td>\n",
       "      <td>500</td>\n",
       "      <td>0.247662</td>\n",
       "      <td>0.254865</td>\n",
       "      <td>0.252870</td>\n",
       "      <td>0.251799</td>\n",
       "      <td>0.003719</td>\n",
       "      <td>0.247662</td>\n",
       "    </tr>\n",
       "    <tr>\n",
       "      <td>42</td>\n",
       "      <td>linear</td>\n",
       "      <td>mse</td>\n",
       "      <td>adam</td>\n",
       "      <td>0.0100</td>\n",
       "      <td>100</td>\n",
       "      <td>0.260853</td>\n",
       "      <td>0.246119</td>\n",
       "      <td>0.250726</td>\n",
       "      <td>0.252566</td>\n",
       "      <td>0.007537</td>\n",
       "      <td>0.246119</td>\n",
       "    </tr>\n",
       "    <tr>\n",
       "      <td>110</td>\n",
       "      <td>linear</td>\n",
       "      <td>mse</td>\n",
       "      <td>adam</td>\n",
       "      <td>0.0010</td>\n",
       "      <td>100</td>\n",
       "      <td>0.254519</td>\n",
       "      <td>0.255883</td>\n",
       "      <td>0.252249</td>\n",
       "      <td>0.254217</td>\n",
       "      <td>0.001836</td>\n",
       "      <td>0.252249</td>\n",
       "    </tr>\n",
       "  </tbody>\n",
       "</table>\n",
       "</div>"
      ],
      "text/plain": [
       "    last activation loss_funct optimiser  learning rate  batch size      mae1  \\\n",
       "64          sigmoid        mse       nag         0.0001          10  0.236169   \n",
       "70          sigmoid        mse       nag         0.0010         100  0.239391   \n",
       "69          sigmoid        mse       nag         0.0010          50  0.240394   \n",
       "98           linear        mse       nag         0.0001         100  0.254174   \n",
       "97           linear        mse       nag         0.0001          50  0.250003   \n",
       "71          sigmoid        mse       nag         0.0010         500  0.249200   \n",
       "3           sigmoid        mse       nag         0.0100         500  0.249529   \n",
       "103          linear        mse       nag         0.0010         500  0.247662   \n",
       "42           linear        mse      adam         0.0100         100  0.260853   \n",
       "110          linear        mse      adam         0.0010         100  0.254519   \n",
       "\n",
       "         mae2      mae3  mae_mean   mae_std   mae_min  \n",
       "64   0.237950  0.235087  0.236402  0.001445  0.235087  \n",
       "70   0.236466  0.236841  0.237566  0.001592  0.236466  \n",
       "69   0.251649  0.244099  0.245381  0.005736  0.240394  \n",
       "98   0.247068  0.244842  0.248695  0.004874  0.244842  \n",
       "97   0.254338  0.246466  0.250269  0.003943  0.246466  \n",
       "71   0.252591  0.249421  0.250404  0.001897  0.249200  \n",
       "3    0.262735  0.242378  0.251547  0.010328  0.242378  \n",
       "103  0.254865  0.252870  0.251799  0.003719  0.247662  \n",
       "42   0.246119  0.250726  0.252566  0.007537  0.246119  \n",
       "110  0.255883  0.252249  0.254217  0.001836  0.252249  "
      ]
     },
     "execution_count": 18,
     "metadata": {},
     "output_type": "execute_result"
    }
   ],
   "source": [
    "data_rm_na.sort_values(axis=0, by=\"mae_mean\")[col_list].head(10)"
   ]
  },
  {
   "cell_type": "markdown",
   "metadata": {},
   "source": [
    "To get a better overview of the different performance for the different combinations, we want to group the data by last activation, loss function and optimiser and average over all learning rates and batch sizes.  \n",
    "However, to see if this is justified, we first have to take a look a the mae for batch sizes and learning rates in order to check if the mean accurately approximates the mae over all conditions. "
   ]
  },
  {
   "cell_type": "code",
   "execution_count": 19,
   "metadata": {},
   "outputs": [],
   "source": [
    "sns.set(style=\"ticks\")\n",
    "plt_data = data_rm_na.copy()\n",
    "plt_data[\"combi\"] = plt_data[\"last activation\"] +\"-\"+ plt_data[\"loss_funct\"] +\"-\"+ plt_data[\"optimiser\"]"
   ]
  },
  {
   "cell_type": "code",
   "execution_count": 20,
   "metadata": {},
   "outputs": [
    {
     "data": {
      "image/png": "[encoded data removed]",
      "text/plain": [
       "<Figure size 1296x1728 with 32 Axes>"
      ]
     },
     "metadata": {},
     "output_type": "display_data"
    }
   ],
   "source": [
    "g = sns.FacetGrid(plt_data, col=\"learning rate\", row = \"combi\", sharey=False, aspect=1.5, margin_titles=True)\n",
    "g.map(sns.barplot, \"batch size\", \"mae_mean\", order = [10, 50, 100, 500])\n",
    "plt.show()"
   ]
  },
  {
   "cell_type": "markdown",
   "metadata": {},
   "source": [
    "We see, that combining a linear activation with log loss leads to unreasonably high mean errors.  \n",
    "Apart from that, averaging over all learning rates and batch sizes seems fair the other comibnations."
   ]
  },
  {
   "cell_type": "code",
   "execution_count": 21,
   "metadata": {},
   "outputs": [
    {
     "data": {
      "text/html": [
       "<div>\n",
       "<style scoped>\n",
       "    .dataframe tbody tr th:only-of-type {\n",
       "        vertical-align: middle;\n",
       "    }\n",
       "\n",
       "    .dataframe tbody tr th {\n",
       "        vertical-align: top;\n",
       "    }\n",
       "\n",
       "    .dataframe thead th {\n",
       "        text-align: right;\n",
       "    }\n",
       "</style>\n",
       "<table border=\"1\" class=\"dataframe\">\n",
       "  <thead>\n",
       "    <tr style=\"text-align: right;\">\n",
       "      <th></th>\n",
       "      <th></th>\n",
       "      <th></th>\n",
       "      <th>mae_mean</th>\n",
       "      <th>mae_std</th>\n",
       "      <th>mae_min</th>\n",
       "    </tr>\n",
       "    <tr>\n",
       "      <th>last activation</th>\n",
       "      <th>loss_funct</th>\n",
       "      <th>optimiser</th>\n",
       "      <th></th>\n",
       "      <th></th>\n",
       "      <th></th>\n",
       "    </tr>\n",
       "  </thead>\n",
       "  <tbody>\n",
       "    <tr>\n",
       "      <td rowspan=\"4\" valign=\"top\">linear</td>\n",
       "      <td rowspan=\"2\" valign=\"top\">log_loss</td>\n",
       "      <td>adam</td>\n",
       "      <td>7.672390e+18</td>\n",
       "      <td>5.559286e+17</td>\n",
       "      <td>7.040447e+18</td>\n",
       "    </tr>\n",
       "    <tr>\n",
       "      <td>nag</td>\n",
       "      <td>4.962897e+08</td>\n",
       "      <td>6.444116e+05</td>\n",
       "      <td>4.958493e+08</td>\n",
       "    </tr>\n",
       "    <tr>\n",
       "      <td rowspan=\"2\" valign=\"top\">mse</td>\n",
       "      <td>adam</td>\n",
       "      <td>2.755342e-01</td>\n",
       "      <td>7.218666e-03</td>\n",
       "      <td>2.689164e-01</td>\n",
       "    </tr>\n",
       "    <tr>\n",
       "      <td>nag</td>\n",
       "      <td>2.713644e-01</td>\n",
       "      <td>3.708342e-03</td>\n",
       "      <td>2.678981e-01</td>\n",
       "    </tr>\n",
       "    <tr>\n",
       "      <td rowspan=\"4\" valign=\"top\">sigmoid</td>\n",
       "      <td rowspan=\"2\" valign=\"top\">log_loss</td>\n",
       "      <td>adam</td>\n",
       "      <td>4.811802e-01</td>\n",
       "      <td>6.229844e-03</td>\n",
       "      <td>4.740441e-01</td>\n",
       "    </tr>\n",
       "    <tr>\n",
       "      <td>nag</td>\n",
       "      <td>4.855273e-01</td>\n",
       "      <td>1.923857e-02</td>\n",
       "      <td>4.712098e-01</td>\n",
       "    </tr>\n",
       "    <tr>\n",
       "      <td rowspan=\"2\" valign=\"top\">mse</td>\n",
       "      <td>adam</td>\n",
       "      <td>3.801231e-01</td>\n",
       "      <td>2.067254e-02</td>\n",
       "      <td>3.628871e-01</td>\n",
       "    </tr>\n",
       "    <tr>\n",
       "      <td>nag</td>\n",
       "      <td>2.602327e-01</td>\n",
       "      <td>4.474500e-03</td>\n",
       "      <td>2.560345e-01</td>\n",
       "    </tr>\n",
       "  </tbody>\n",
       "</table>\n",
       "</div>"
      ],
      "text/plain": [
       "                                          mae_mean       mae_std       mae_min\n",
       "last activation loss_funct optimiser                                          \n",
       "linear          log_loss   adam       7.672390e+18  5.559286e+17  7.040447e+18\n",
       "                           nag        4.962897e+08  6.444116e+05  4.958493e+08\n",
       "                mse        adam       2.755342e-01  7.218666e-03  2.689164e-01\n",
       "                           nag        2.713644e-01  3.708342e-03  2.678981e-01\n",
       "sigmoid         log_loss   adam       4.811802e-01  6.229844e-03  4.740441e-01\n",
       "                           nag        4.855273e-01  1.923857e-02  4.712098e-01\n",
       "                mse        adam       3.801231e-01  2.067254e-02  3.628871e-01\n",
       "                           nag        2.602327e-01  4.474500e-03  2.560345e-01"
      ]
     },
     "execution_count": 21,
     "metadata": {},
     "output_type": "execute_result"
    }
   ],
   "source": [
    "# group and check mean mae and loss\n",
    "data_rm_na.groupby([\"last activation\", \"loss_funct\", \"optimiser\"])[\"mae_mean\", \"mae_std\", \"mae_min\"].mean()"
   ]
  },
  {
   "cell_type": "markdown",
   "metadata": {},
   "source": [
    "After grouping and averaging, the high errors for linear+log_loss are clearly visible once more. In combination with a sigmoid activation, the log loss also does not perform as well as the mse-loss function. Apart from that, we generally do not observe a mae lower than 0.25, which still means that on average our probability estimates are 25% off - an unsatisfying result."
   ]
  }
 ],
 "metadata": {
  "kernelspec": {
   "display_name": "Python 3",
   "language": "python",
   "name": "python3"
  },
  "language_info": {
   "codemirror_mode": {
    "name": "ipython",
    "version": 3
   },
   "file_extension": ".py",
   "mimetype": "text/x-python",
   "name": "python",
   "nbconvert_exporter": "python",
   "pygments_lexer": "ipython3",
   "version": "3.7.4"
  }
 },
 "nbformat": 4,
 "nbformat_minor": 2
}
