{
 "cells": [
  {
   "cell_type": "markdown",
   "metadata": {},
   "source": [
    "# How does Dominoes work? - A supervised learning approach to learn game dynamics and rewards from one-hot-encoded game states and actions."
   ]
  },
  {
   "cell_type": "markdown",
   "metadata": {},
   "source": [
    "## I. The Problem\n",
    "### I.I. The Learning Problem\n",
    "To learn the game dynamics, we have the model predict the next state (vector of length 30, one-hot encoded bist of information that describe the game state after an action) based on the previous state (length 30 one-hot-encoded vector) and an action (length 21 one-hot-encoded vector).  \n",
    "### I.II. The Input Data\n",
    "The input data consists of the current state (vector of length 30, one-hot encoded bist of information that describe the game state after an action) and an action (length 21 one-hot-encoded vector). We use it to predict either the next state (length 30 one-hot-encoded vector) or the probability that a given action in this situation leads to success.  \n",
    "Since the data used for training is collected from multiple games, it needs to be cleaned so that it is not the case that for the same combination of state and action, multiple probabilities can be learned."
   ]
  },
  {
   "cell_type": "code",
   "execution_count": 1,
   "metadata": {},
   "outputs": [],
   "source": [
    "import pandas as pd\n",
    "from sklearn.model_selection import train_test_split"
   ]
  },
  {
   "cell_type": "code",
   "execution_count": 2,
   "metadata": {},
   "outputs": [],
   "source": [
    "def divide_train_data(training_path, clean = False, test_size = 0.2):\n",
    "    pandas_train = pd.read_csv(training_path,sep=';')\n",
    "    if clean:\n",
    "        pandas_train = clean_data(pandas_train)\n",
    "    pandas_train = pandas_train.sample(frac=1).reset_index(drop=True)\n",
    "    train, test = train_test_split(pandas_train,test_size = test_size)\n",
    "    train_inputs = train.iloc[:,0:51]\n",
    "    train_next_label = train.iloc[:,51:81]\n",
    "    train_pred_label = train.iloc[:,-2:-1]\n",
    "    test_inputs = test.iloc[:,0:51]\n",
    "    test_next_label = test.iloc[:,51:81]\n",
    "    test_pred_label = test.iloc[:,-2:-1]\n",
    "    train_dict = {\"input\": train_inputs, \"next\":train_next_label, \"pred\": train_pred_label}\n",
    "    test_dict = {\"input\": test_inputs, \"next\": test_next_label, \"pred\": test_pred_label}\n",
    "    return train_dict, test_dict\n",
    "\n",
    "def clean_data(dataframe):\n",
    "    cleaned_df = dataframe\n",
    "    cleaned_df_str = convert_cols(cleaned_df, str)\n",
    "    cleaned_df_str['combo'] = cleaned_df_str.apply(lambda x: ''.join(x), axis=1)\n",
    "    cleaned_df_str['combo'] = cleaned_df_str['combo'].str[:51]\n",
    "    cleaned_df_str = cleaned_df_str.sort_values('n', ascending=False).drop_duplicates(['combo'])\n",
    "    cleaned_df_str = cleaned_df_str.drop('combo', 1)\n",
    "    cleaned_df = convert_cols(cleaned_df_str, float)\n",
    "    diff = dataframe.shape[0] - cleaned_df.shape[0]\n",
    "    print(\"Removed {} duplicates with different probability scores\".format(diff))\n",
    "    return cleaned_df\n",
    "\n",
    "def convert_cols(dataframe, datatype, indices= False):\n",
    "    res_df = dataframe\n",
    "    if indices:\n",
    "        for col in list(res_df.columns.values)[indices]:\n",
    "            res_df[col] = res_df[col].astype(datatype)\n",
    "    else:\n",
    "        for col in list(res_df.columns.values):\n",
    "            res_df[col] = res_df[col].astype(datatype)\n",
    "    return res_df"
   ]
  },
  {
   "cell_type": "markdown",
   "metadata": {},
   "source": [
    "## II. The Solution"
   ]
  },
  {
   "cell_type": "code",
   "execution_count": 3,
   "metadata": {},
   "outputs": [],
   "source": [
    "# ignore FutureWarnings for prettier Notebook\n",
    "import warnings  \n",
    "with warnings.catch_warnings():  \n",
    "    warnings.filterwarnings(\"ignore\",category=FutureWarning)\n",
    "    \n",
    "    from tensorflow.keras.models import Sequential, Model, clone_model\n",
    "    from tensorflow.keras.layers import Dense"
   ]
  },
  {
   "cell_type": "code",
   "execution_count": 4,
   "metadata": {},
   "outputs": [],
   "source": [
    "import matplotlib.pyplot as plt\n",
    "\n",
    "# function drawing accuracy and loss curves for training\n",
    "def show_acc_loss_curves(hist, metric = \"acc\"):\n",
    "    if metric == \"mea\":\n",
    "        draw_dict = {\"loss\": {\"full\": \"loss\"}, \"mea_metric\": {\"full\": \"mea_metric\"}}\n",
    "    elif metric == \"acc\":\n",
    "        draw_dict = {\"loss\": {\"full\": \"loss\"}, \"acc\": {\"full\": \"accuracy\"}}\n",
    "    elif metric == \"both\":\n",
    "        {\"loss\": {\"full\": \"loss\"}, \"mea_metric\": {\"full\": \"mea_metric\"}, \"acc\": {\"full\": \"accuracy\"}}\n",
    "        \n",
    "    fig, axes = plt.subplots(nrows=1, ncols=len(draw_dict.keys()), figsize=(15, 5))\n",
    "\n",
    "    \n",
    "    for i, key in enumerate(draw_dict.keys()):\n",
    "        axes[i].plot(hist.history[key])\n",
    "        axes[i].plot(hist.history['val_'+key])\n",
    "        axes[i].set_title('model '+draw_dict[key][\"full\"])\n",
    "        axes[i].set_ylabel(key)\n",
    "        axes[i].set_xlabel('epoch')\n",
    "        axes[i].legend(['train', 'test'], loc='upper left')\n",
    "    fig.tight_layout()\n",
    "        \n",
    "def test_model(model, test_data, test = \"next\"):\n",
    "    scores = model.evaluate(test_data[\"input\"], test_data[test])"
   ]
  },
  {
   "cell_type": "markdown",
   "metadata": {},
   "source": [
    "### II.I. Supervised Learning of Game Dynamics\n",
    "To learn the game dynamics, we have the model predict the next state based on the previous state and an action.  \n",
    "To do this, we use a simple neural network with a ```51-120-30``` structure."
   ]
  },
  {
   "cell_type": "code",
   "execution_count": 5,
   "metadata": {},
   "outputs": [
    {
     "name": "stdout",
     "output_type": "stream",
     "text": [
      "Model: \"sequential\"\n",
      "_________________________________________________________________\n",
      "Layer (type)                 Output Shape              Param #   \n",
      "=================================================================\n",
      "dense (Dense)                (None, 120)               6240      \n",
      "_________________________________________________________________\n",
      "dense_1 (Dense)              (None, 30)                3630      \n",
      "=================================================================\n",
      "Total params: 9,870\n",
      "Trainable params: 9,870\n",
      "Non-trainable params: 0\n",
      "_________________________________________________________________\n"
     ]
    }
   ],
   "source": [
    "dyn_model = Sequential()\n",
    "dyn_model.add(Dense(120,input_dim=51, activation=\"relu\"))\n",
    "dyn_model.add(Dense(30, activation='sigmoid'))\n",
    "dyn_model.compile(loss='binary_crossentropy',\n",
    "              optimizer='adam', # Root Mean Square Propagation\n",
    "              metrics=['acc']) # Accuracy performance metric\n",
    "dyn_model.summary()"
   ]
  },
  {
   "cell_type": "code",
   "execution_count": 6,
   "metadata": {},
   "outputs": [
    {
     "name": "stdout",
     "output_type": "stream",
     "text": [
      "Removed 5849 duplicates with different probability scores\n"
     ]
    }
   ],
   "source": [
    "train_data, test_data = divide_train_data(\"train-200games-1000-iter.csv\", clean=True)"
   ]
  },
  {
   "cell_type": "code",
   "execution_count": 7,
   "metadata": {},
   "outputs": [
    {
     "name": "stdout",
     "output_type": "stream",
     "text": [
      "WARNING:tensorflow:From /home/lks/anaconda3/lib/python3.7/site-packages/tensorflow/python/ops/math_grad.py:1250: add_dispatch_support.<locals>.wrapper (from tensorflow.python.ops.array_ops) is deprecated and will be removed in a future version.\n",
      "Instructions for updating:\n",
      "Use tf.where in 2.0, which has the same broadcast rule as np.where\n"
     ]
    }
   ],
   "source": [
    "dyn_history = dyn_model.fit(train_data[\"input\"], train_data[\"next\"], epochs=500, batch_size=500, verbose=0, \n",
    "                        validation_split=0.33)"
   ]
  },
  {
   "cell_type": "code",
   "execution_count": 8,
   "metadata": {},
   "outputs": [
    {
     "data": {
      "image/png": "[encoded data removed]",
      "text/plain": [
       "<Figure size 1080x360 with 2 Axes>"
      ]
     },
     "metadata": {
      "needs_background": "light"
     },
     "output_type": "display_data"
    }
   ],
   "source": [
    "# summarize history for loss and acc\n",
    "show_acc_loss_curves(dyn_history)"
   ]
  },
  {
   "cell_type": "code",
   "execution_count": 9,
   "metadata": {},
   "outputs": [
    {
     "name": "stdout",
     "output_type": "stream",
     "text": [
      "1517/1517 [==============================] - 0s 59us/sample - loss: 4.3914e-04 - acc: 1.0000\n"
     ]
    }
   ],
   "source": [
    "test_model(dyn_model, test_data)"
   ]
  },
  {
   "cell_type": "markdown",
   "metadata": {},
   "source": [
    "The results show that the network is able to quickly extract the relevant dynamics from the input data, represented by the steep decline of the loss curve after only a few epochs."
   ]
  },
  {
   "cell_type": "markdown",
   "metadata": {},
   "source": [
    "### II.II. Transfer Learning\n",
    "In order to better learn the reward based on an action in a specific situation, we use the trained model from the previous task and attach 2 more layers on top of it. This is meant to use the knowledge gained about game dynamics for predicting the probability of winning after a given action.  \n",
    "Since we were not completely sure which combination of activation and loss functions was best suited to this purpose, we created a grid search over the following parameters:  \n",
    "- ***activation of last layer***: sigmoid or linear\n",
    "- ***loss function***: cross-entropy/logloss, mean squared error/Brier score for logistic activation\n",
    "- ***optimiser***: Nesterov Momentum (NAG), Adaptive Moment Estimation (ADAM)\n",
    "- ***learning rate***: 0.0001, ...\n",
    "- ***batch size***: 10, 20, 40, 60, 80, 100, 200, 500, 1000"
   ]
  },
  {
   "cell_type": "code",
   "execution_count": 10,
   "metadata": {},
   "outputs": [
    {
     "name": "stderr",
     "output_type": "stream",
     "text": [
      "Using TensorFlow backend.\n"
     ]
    }
   ],
   "source": [
    "import numpy as np\n",
    "import keras.backend as K\n",
    "from tensorflow.keras.optimizers import SGD\n",
    "from tensorflow.keras.optimizers import Adam\n",
    "from tensorflow.keras.wrappers.scikit_learn import KerasClassifier\n",
    "from sklearn.model_selection import GridSearchCV\n",
    "\n",
    "# define custom log loss\n",
    "def log_loss(y_true, y_pred):\n",
    "    print(y_true)\n",
    "    return K.mean(-K.log(abs(y_true - y_pred)))\n",
    "\n",
    "# define custom mean absolute error metric\n",
    "def mea_metric(y_true, y_pred):\n",
    "    return K.mean(abs(y_true - y_pred))\n",
    "\n",
    "def copy_model(model, loss, optimiser):\n",
    "    model_copy= clone_model(model)\n",
    "    \n",
    "    if optimiser == \"nag\":\n",
    "        opt = SGD(learning_rate=learning_rate, nesterov=True)\n",
    "    elif optimiser == \"adam\":\n",
    "        opt = Adam(learning_rate=learning_rate)\n",
    "        \n",
    "    model_copy.compile(loss=loss, optimizer=opt, metrics=[\"acc\", mea_metric])\n",
    "    model_copy.set_weights(model.get_weights())\n",
    "    return model_copy\n",
    "\n",
    "# Function to create model, required for KerasClassifier\n",
    "def create_model(last_activation, loss_funct, optimiser, learning_rate, base_model = dyn_model, transfer_learning = True):\n",
    "    # remove output layer of base model\n",
    "    model = copy_model(base_model, loss_funct, optimiser)\n",
    "    model.pop()\n",
    "    # transfer learning condition\n",
    "    if transfer_learning:\n",
    "        model.layers[0].trainable = False\n",
    "    # additional layers for learning\n",
    "    start = Dense(120, activation='relu')(model.layers[-1].output)\n",
    "    end = Dense(250, activation='relu')(start)\n",
    "    out_r = Dense(1, activation=last_activation, name='r_prop')(end)\n",
    "    final_model = Model(model.input,out_r)\n",
    "    # Compile model\n",
    "    if optimiser == \"nag\":\n",
    "        opt = SGD(learning_rate=learning_rate, nesterov=True)\n",
    "    elif optimiser == \"adam\":\n",
    "        opt = Adam(learning_rate=learning_rate)\n",
    "\n",
    "    final_model.compile(loss=loss_funct, optimizer=opt, metrics=[\"acc\", mea_metric])\n",
    "    return final_model\n",
    "\n",
    "# set hyperparameter search space\n",
    "last_activation = [\"sigmoid\", \"linear\"]\n",
    "loss_funct = [\"mse\", log_loss]\n",
    "optimiser = [\"nag\", \"adam\"]\n",
    "learning_rate = [0.0001, 0.0005] #, 0.001, 0.005, 0.01, 0.05, 0.1, 0.2, 0.3]\n",
    "batch_size = [10, 20] #, 40, 60, 80, 100, 200, 500, 1000]\n",
    "epochs = [10]\n",
    "\n",
    "param_grid = dict(last_activation = last_activation, loss_funct = loss_funct, optimiser = optimiser,\n",
    "                  learning_rate = learning_rate, batch_size = batch_size, epochs = epochs)\n",
    "\n"
   ]
  },
  {
   "cell_type": "code",
   "execution_count": 12,
   "metadata": {},
   "outputs": [
    {
     "name": "stdout",
     "output_type": "stream",
     "text": [
      "Tensor(\"dense_1_target_7:0\", shape=(None, None), dtype=float32)\n",
      "Tensor(\"r_prop_target_6:0\", shape=(None, None), dtype=float32)\n",
      "Tensor(\"dense_1_target_8:0\", shape=(None, None), dtype=float32)\n",
      "Tensor(\"r_prop_target_7:0\", shape=(None, None), dtype=float32)\n",
      "Tensor(\"dense_1_target_9:0\", shape=(None, None), dtype=float32)\n",
      "Tensor(\"r_prop_target_8:0\", shape=(None, None), dtype=float32)\n",
      "Tensor(\"dense_1_target_10:0\", shape=(None, None), dtype=float32)\n",
      "Tensor(\"r_prop_target_9:0\", shape=(None, None), dtype=float32)\n",
      "Tensor(\"dense_1_target_11:0\", shape=(None, None), dtype=float32)\n",
      "Tensor(\"r_prop_target_10:0\", shape=(None, None), dtype=float32)\n",
      "Tensor(\"dense_1_target_12:0\", shape=(None, None), dtype=float32)\n",
      "Tensor(\"r_prop_target_11:0\", shape=(None, None), dtype=float32)\n",
      "Tensor(\"dense_1_target_19:0\", shape=(None, None), dtype=float32)\n",
      "Tensor(\"r_prop_target_18:0\", shape=(None, None), dtype=float32)\n",
      "Tensor(\"dense_1_target_20:0\", shape=(None, None), dtype=float32)\n",
      "Tensor(\"r_prop_target_19:0\", shape=(None, None), dtype=float32)\n",
      "Tensor(\"dense_1_target_21:0\", shape=(None, None), dtype=float32)\n",
      "Tensor(\"r_prop_target_20:0\", shape=(None, None), dtype=float32)\n",
      "Tensor(\"dense_1_target_22:0\", shape=(None, None), dtype=float32)\n",
      "Tensor(\"r_prop_target_21:0\", shape=(None, None), dtype=float32)\n",
      "Tensor(\"dense_1_target_23:0\", shape=(None, None), dtype=float32)\n",
      "Tensor(\"r_prop_target_22:0\", shape=(None, None), dtype=float32)\n",
      "Tensor(\"dense_1_target_24:0\", shape=(None, None), dtype=float32)\n",
      "Tensor(\"r_prop_target_23:0\", shape=(None, None), dtype=float32)\n",
      "Tensor(\"dense_1_target_31:0\", shape=(None, None), dtype=float32)\n",
      "Tensor(\"r_prop_target_30:0\", shape=(None, None), dtype=float32)\n",
      "Tensor(\"dense_1_target_32:0\", shape=(None, None), dtype=float32)\n",
      "Tensor(\"r_prop_target_31:0\", shape=(None, None), dtype=float32)\n",
      "Tensor(\"dense_1_target_33:0\", shape=(None, None), dtype=float32)\n",
      "Tensor(\"r_prop_target_32:0\", shape=(None, None), dtype=float32)\n",
      "Tensor(\"dense_1_target_34:0\", shape=(None, None), dtype=float32)\n",
      "Tensor(\"r_prop_target_33:0\", shape=(None, None), dtype=float32)\n",
      "Tensor(\"dense_1_target_35:0\", shape=(None, None), dtype=float32)\n",
      "Tensor(\"r_prop_target_34:0\", shape=(None, None), dtype=float32)\n",
      "Tensor(\"dense_1_target_36:0\", shape=(None, None), dtype=float32)\n",
      "Tensor(\"r_prop_target_35:0\", shape=(None, None), dtype=float32)\n",
      "Tensor(\"dense_1_target_43:0\", shape=(None, None), dtype=float32)\n",
      "Tensor(\"r_prop_target_42:0\", shape=(None, None), dtype=float32)\n",
      "Tensor(\"dense_1_target_44:0\", shape=(None, None), dtype=float32)\n",
      "Tensor(\"r_prop_target_43:0\", shape=(None, None), dtype=float32)\n",
      "Tensor(\"dense_1_target_45:0\", shape=(None, None), dtype=float32)\n",
      "Tensor(\"r_prop_target_44:0\", shape=(None, None), dtype=float32)\n",
      "Tensor(\"dense_1_target_46:0\", shape=(None, None), dtype=float32)\n",
      "Tensor(\"r_prop_target_45:0\", shape=(None, None), dtype=float32)\n",
      "Tensor(\"dense_1_target_47:0\", shape=(None, None), dtype=float32)\n",
      "Tensor(\"r_prop_target_46:0\", shape=(None, None), dtype=float32)\n",
      "Tensor(\"dense_1_target_48:0\", shape=(None, None), dtype=float32)\n",
      "Tensor(\"r_prop_target_47:0\", shape=(None, None), dtype=float32)\n",
      "Tensor(\"dense_1_target_55:0\", shape=(None, None), dtype=float32)\n",
      "Tensor(\"r_prop_target_54:0\", shape=(None, None), dtype=float32)\n",
      "Tensor(\"dense_1_target_56:0\", shape=(None, None), dtype=float32)\n",
      "Tensor(\"r_prop_target_55:0\", shape=(None, None), dtype=float32)\n",
      "Tensor(\"dense_1_target_57:0\", shape=(None, None), dtype=float32)\n",
      "Tensor(\"r_prop_target_56:0\", shape=(None, None), dtype=float32)\n",
      "Tensor(\"dense_1_target_58:0\", shape=(None, None), dtype=float32)\n",
      "Tensor(\"r_prop_target_57:0\", shape=(None, None), dtype=float32)\n",
      "Tensor(\"dense_1_target_59:0\", shape=(None, None), dtype=float32)\n",
      "Tensor(\"r_prop_target_58:0\", shape=(None, None), dtype=float32)\n",
      "Tensor(\"dense_1_target_60:0\", shape=(None, None), dtype=float32)\n",
      "Tensor(\"r_prop_target_59:0\", shape=(None, None), dtype=float32)\n",
      "Tensor(\"dense_1_target_67:0\", shape=(None, None), dtype=float32)\n",
      "Tensor(\"r_prop_target_66:0\", shape=(None, None), dtype=float32)\n",
      "Tensor(\"dense_1_target_68:0\", shape=(None, None), dtype=float32)\n",
      "Tensor(\"r_prop_target_67:0\", shape=(None, None), dtype=float32)\n",
      "Tensor(\"dense_1_target_69:0\", shape=(None, None), dtype=float32)\n",
      "Tensor(\"r_prop_target_68:0\", shape=(None, None), dtype=float32)\n",
      "Tensor(\"dense_1_target_70:0\", shape=(None, None), dtype=float32)\n",
      "Tensor(\"r_prop_target_69:0\", shape=(None, None), dtype=float32)\n",
      "Tensor(\"dense_1_target_71:0\", shape=(None, None), dtype=float32)\n",
      "Tensor(\"r_prop_target_70:0\", shape=(None, None), dtype=float32)\n",
      "Tensor(\"dense_1_target_72:0\", shape=(None, None), dtype=float32)\n",
      "Tensor(\"r_prop_target_71:0\", shape=(None, None), dtype=float32)\n",
      "Tensor(\"dense_1_target_79:0\", shape=(None, None), dtype=float32)\n",
      "Tensor(\"r_prop_target_78:0\", shape=(None, None), dtype=float32)\n",
      "Tensor(\"dense_1_target_80:0\", shape=(None, None), dtype=float32)\n",
      "Tensor(\"r_prop_target_79:0\", shape=(None, None), dtype=float32)\n",
      "Tensor(\"dense_1_target_81:0\", shape=(None, None), dtype=float32)\n",
      "Tensor(\"r_prop_target_80:0\", shape=(None, None), dtype=float32)\n",
      "Tensor(\"dense_1_target_82:0\", shape=(None, None), dtype=float32)\n",
      "Tensor(\"r_prop_target_81:0\", shape=(None, None), dtype=float32)\n",
      "Tensor(\"dense_1_target_83:0\", shape=(None, None), dtype=float32)\n",
      "Tensor(\"r_prop_target_82:0\", shape=(None, None), dtype=float32)\n",
      "Tensor(\"dense_1_target_84:0\", shape=(None, None), dtype=float32)\n",
      "Tensor(\"r_prop_target_83:0\", shape=(None, None), dtype=float32)\n",
      "Tensor(\"dense_1_target_91:0\", shape=(None, None), dtype=float32)\n",
      "Tensor(\"r_prop_target_90:0\", shape=(None, None), dtype=float32)\n",
      "Tensor(\"dense_1_target_92:0\", shape=(None, None), dtype=float32)\n",
      "Tensor(\"r_prop_target_91:0\", shape=(None, None), dtype=float32)\n",
      "Tensor(\"dense_1_target_93:0\", shape=(None, None), dtype=float32)\n",
      "Tensor(\"r_prop_target_92:0\", shape=(None, None), dtype=float32)\n",
      "Tensor(\"dense_1_target_94:0\", shape=(None, None), dtype=float32)\n",
      "Tensor(\"r_prop_target_93:0\", shape=(None, None), dtype=float32)\n",
      "Tensor(\"dense_1_target_95:0\", shape=(None, None), dtype=float32)\n",
      "Tensor(\"r_prop_target_94:0\", shape=(None, None), dtype=float32)\n",
      "Tensor(\"dense_1_target_96:0\", shape=(None, None), dtype=float32)\n",
      "Tensor(\"r_prop_target_95:0\", shape=(None, None), dtype=float32)\n"
     ]
    }
   ],
   "source": [
    "# seed = 7\n",
    "# np.random.seed(seed)\n",
    "\n",
    "\n",
    "# create model\n",
    "model = KerasClassifier(build_fn=create_model, verbose=0)\n",
    "\n",
    "# define grid search\n",
    "grid = GridSearchCV(estimator=model, param_grid=param_grid, n_jobs=1, cv=3)\n",
    "grid_result = grid.fit(train_data[\"input\"], train_data[\"pred\"])"
   ]
  },
  {
   "cell_type": "code",
   "execution_count": 13,
   "metadata": {},
   "outputs": [
    {
     "name": "stdout",
     "output_type": "stream",
     "text": [
      "Best: 0.001813 using {'batch_size': 10, 'epochs': 10, 'last_activation': 'linear', 'learning_rate': 0.0001, 'loss_funct': 'mse', 'optimiser': 'nag'}\n",
      "0.000165 (0.000233) with: {'batch_size': 10, 'epochs': 10, 'last_activation': 'sigmoid', 'learning_rate': 0.0001, 'loss_funct': 'mse', 'optimiser': 'nag'}\n",
      "0.000165 (0.000233) with: {'batch_size': 10, 'epochs': 10, 'last_activation': 'sigmoid', 'learning_rate': 0.0001, 'loss_funct': 'mse', 'optimiser': 'adam'}\n",
      "0.000659 (0.000617) with: {'batch_size': 10, 'epochs': 10, 'last_activation': 'sigmoid', 'learning_rate': 0.0001, 'loss_funct': <function log_loss at 0x7f4e7c50f8c0>, 'optimiser': 'nag'}\n",
      "0.001154 (0.000840) with: {'batch_size': 10, 'epochs': 10, 'last_activation': 'sigmoid', 'learning_rate': 0.0001, 'loss_funct': <function log_loss at 0x7f4e7c50f8c0>, 'optimiser': 'adam'}\n",
      "0.000165 (0.000233) with: {'batch_size': 10, 'epochs': 10, 'last_activation': 'sigmoid', 'learning_rate': 0.0005, 'loss_funct': 'mse', 'optimiser': 'nag'}\n",
      "0.000165 (0.000233) with: {'batch_size': 10, 'epochs': 10, 'last_activation': 'sigmoid', 'learning_rate': 0.0005, 'loss_funct': 'mse', 'optimiser': 'adam'}\n",
      "0.001483 (0.001068) with: {'batch_size': 10, 'epochs': 10, 'last_activation': 'sigmoid', 'learning_rate': 0.0005, 'loss_funct': <function log_loss at 0x7f4e7c50f8c0>, 'optimiser': 'nag'}\n",
      "0.000824 (0.000841) with: {'batch_size': 10, 'epochs': 10, 'last_activation': 'sigmoid', 'learning_rate': 0.0005, 'loss_funct': <function log_loss at 0x7f4e7c50f8c0>, 'optimiser': 'adam'}\n",
      "0.001813 (0.001016) with: {'batch_size': 10, 'epochs': 10, 'last_activation': 'linear', 'learning_rate': 0.0001, 'loss_funct': 'mse', 'optimiser': 'nag'}\n",
      "0.000165 (0.000233) with: {'batch_size': 10, 'epochs': 10, 'last_activation': 'linear', 'learning_rate': 0.0001, 'loss_funct': 'mse', 'optimiser': 'adam'}\n",
      "0.001318 (0.001166) with: {'batch_size': 10, 'epochs': 10, 'last_activation': 'linear', 'learning_rate': 0.0001, 'loss_funct': <function log_loss at 0x7f4e7c50f8c0>, 'optimiser': 'nag'}\n",
      "0.001813 (0.001016) with: {'batch_size': 10, 'epochs': 10, 'last_activation': 'linear', 'learning_rate': 0.0001, 'loss_funct': <function log_loss at 0x7f4e7c50f8c0>, 'optimiser': 'adam'}\n",
      "0.001813 (0.001016) with: {'batch_size': 10, 'epochs': 10, 'last_activation': 'linear', 'learning_rate': 0.0005, 'loss_funct': 'mse', 'optimiser': 'nag'}\n",
      "0.000165 (0.000233) with: {'batch_size': 10, 'epochs': 10, 'last_activation': 'linear', 'learning_rate': 0.0005, 'loss_funct': 'mse', 'optimiser': 'adam'}\n",
      "0.001813 (0.001016) with: {'batch_size': 10, 'epochs': 10, 'last_activation': 'linear', 'learning_rate': 0.0005, 'loss_funct': <function log_loss at 0x7f4e7c50f8c0>, 'optimiser': 'nag'}\n",
      "0.001813 (0.001016) with: {'batch_size': 10, 'epochs': 10, 'last_activation': 'linear', 'learning_rate': 0.0005, 'loss_funct': <function log_loss at 0x7f4e7c50f8c0>, 'optimiser': 'adam'}\n",
      "0.000165 (0.000233) with: {'batch_size': 20, 'epochs': 10, 'last_activation': 'sigmoid', 'learning_rate': 0.0001, 'loss_funct': 'mse', 'optimiser': 'nag'}\n",
      "0.000165 (0.000233) with: {'batch_size': 20, 'epochs': 10, 'last_activation': 'sigmoid', 'learning_rate': 0.0001, 'loss_funct': 'mse', 'optimiser': 'adam'}\n",
      "0.001318 (0.000841) with: {'batch_size': 20, 'epochs': 10, 'last_activation': 'sigmoid', 'learning_rate': 0.0001, 'loss_funct': <function log_loss at 0x7f4e7c50f8c0>, 'optimiser': 'nag'}\n",
      "0.001318 (0.001016) with: {'batch_size': 20, 'epochs': 10, 'last_activation': 'sigmoid', 'learning_rate': 0.0001, 'loss_funct': <function log_loss at 0x7f4e7c50f8c0>, 'optimiser': 'adam'}\n",
      "0.000165 (0.000233) with: {'batch_size': 20, 'epochs': 10, 'last_activation': 'sigmoid', 'learning_rate': 0.0005, 'loss_funct': 'mse', 'optimiser': 'nag'}\n",
      "0.000165 (0.000233) with: {'batch_size': 20, 'epochs': 10, 'last_activation': 'sigmoid', 'learning_rate': 0.0005, 'loss_funct': 'mse', 'optimiser': 'adam'}\n",
      "0.001813 (0.001016) with: {'batch_size': 20, 'epochs': 10, 'last_activation': 'sigmoid', 'learning_rate': 0.0005, 'loss_funct': <function log_loss at 0x7f4e7c50f8c0>, 'optimiser': 'nag'}\n",
      "0.000000 (0.000000) with: {'batch_size': 20, 'epochs': 10, 'last_activation': 'sigmoid', 'learning_rate': 0.0005, 'loss_funct': <function log_loss at 0x7f4e7c50f8c0>, 'optimiser': 'adam'}\n",
      "0.001813 (0.001016) with: {'batch_size': 20, 'epochs': 10, 'last_activation': 'linear', 'learning_rate': 0.0001, 'loss_funct': 'mse', 'optimiser': 'nag'}\n",
      "0.000165 (0.000233) with: {'batch_size': 20, 'epochs': 10, 'last_activation': 'linear', 'learning_rate': 0.0001, 'loss_funct': 'mse', 'optimiser': 'adam'}\n",
      "0.000989 (0.000699) with: {'batch_size': 20, 'epochs': 10, 'last_activation': 'linear', 'learning_rate': 0.0001, 'loss_funct': <function log_loss at 0x7f4e7c50f8c0>, 'optimiser': 'nag'}\n",
      "0.001813 (0.001016) with: {'batch_size': 20, 'epochs': 10, 'last_activation': 'linear', 'learning_rate': 0.0001, 'loss_funct': <function log_loss at 0x7f4e7c50f8c0>, 'optimiser': 'adam'}\n",
      "0.001813 (0.001016) with: {'batch_size': 20, 'epochs': 10, 'last_activation': 'linear', 'learning_rate': 0.0005, 'loss_funct': 'mse', 'optimiser': 'nag'}\n",
      "0.000165 (0.000233) with: {'batch_size': 20, 'epochs': 10, 'last_activation': 'linear', 'learning_rate': 0.0005, 'loss_funct': 'mse', 'optimiser': 'adam'}\n",
      "0.001318 (0.000617) with: {'batch_size': 20, 'epochs': 10, 'last_activation': 'linear', 'learning_rate': 0.0005, 'loss_funct': <function log_loss at 0x7f4e7c50f8c0>, 'optimiser': 'nag'}\n",
      "0.001813 (0.001016) with: {'batch_size': 20, 'epochs': 10, 'last_activation': 'linear', 'learning_rate': 0.0005, 'loss_funct': <function log_loss at 0x7f4e7c50f8c0>, 'optimiser': 'adam'}\n"
     ]
    }
   ],
   "source": [
    "# summarize results\n",
    "print(\"Best: %f using %s\" % (grid_result.best_score_, grid_result.best_params_))\n",
    "means = grid_result.cv_results_['mean_test_score']\n",
    "stds = grid_result.cv_results_['std_test_score']\n",
    "params = grid_result.cv_results_['params']\n",
    "for mean, stdev, param in zip(means, stds, params):\n",
    "    print(\"%f (%f) with: %r\" % (mean, stdev, param))"
   ]
  }
 ],
 "metadata": {
  "kernelspec": {
   "display_name": "Python 3",
   "language": "python",
   "name": "python3"
  },
  "language_info": {
   "codemirror_mode": {
    "name": "ipython",
    "version": 3
   },
   "file_extension": ".py",
   "mimetype": "text/x-python",
   "name": "python",
   "nbconvert_exporter": "python",
   "pygments_lexer": "ipython3",
   "version": "3.7.4"
  }
 },
 "nbformat": 4,
 "nbformat_minor": 2
}
